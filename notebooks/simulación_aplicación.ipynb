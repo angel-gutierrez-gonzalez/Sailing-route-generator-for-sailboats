{
 "cells": [
  {
   "cell_type": "markdown",
   "id": "1413fdec",
   "metadata": {},
   "source": [
    "# Seleccion de origen-destino"
   ]
  },
  {
   "cell_type": "code",
   "execution_count": 19,
   "id": "20995c80",
   "metadata": {},
   "outputs": [],
   "source": [
    "# cell 0 - Añadir tfm_app al sys.path\n",
    "import sys\n",
    "import os\n",
    "\n",
    "# Obtener ruta absoluta del directorio que contiene el notebook\n",
    "notebook_dir = os.path.dirname(os.getcwd())  # sube un nivel desde /notebook\n",
    "if notebook_dir not in sys.path:\n",
    "    sys.path.append(notebook_dir)"
   ]
  },
  {
   "cell_type": "code",
   "execution_count": 20,
   "id": "9755924d",
   "metadata": {},
   "outputs": [],
   "source": [
    "# cell 1 - Imports\n",
    "from IPython.display import display\n",
    "import folium\n",
    "\n",
    "from map_interaction.select_points import create_map, process_geojson, save_geojson_to_disk\n",
    "from utils.config import SAVE_DIR\n"
   ]
  },
  {
   "cell_type": "code",
   "execution_count": null,
   "id": "3268f6fd",
   "metadata": {},
   "outputs": [],
   "source": [
    "# cell 2 - Mostrar mapa interactivo con área de estudio\n",
    "m = create_map()\n",
    "display(m)"
   ]
  },
  {
   "cell_type": "code",
   "execution_count": 4,
   "id": "c0542412",
   "metadata": {},
   "outputs": [],
   "source": [
    "# cell 3 - Cargar el GeoJSON exportado (si lo exportaste localmente)\n",
    "# Si lo hiciste desde un botón que descarga el archivo, colócalo tú en SAVE_DIR y luego cárgalo así:\n",
    "\n",
    "import json\n",
    "\n",
    "selection_path = os.path.join(SAVE_DIR, \"selected_points.geojson\")\n",
    "with open(selection_path, 'r', encoding='utf-8') as f:\n",
    "    geojson = json.load(f)"
   ]
  },
  {
   "cell_type": "code",
   "execution_count": 5,
   "id": "df6017a1",
   "metadata": {},
   "outputs": [
    {
     "name": "stdout",
     "output_type": "stream",
     "text": [
      "Punto de inicio: (38.907596, 1.993112)\n",
      "Punto de destino: (39.964275, 3.426313)\n"
     ]
    }
   ],
   "source": [
    "# cell 4 - Procesar y validar los puntos seleccionados\n",
    "start, end = process_geojson(geojson)\n",
    "print(\"Punto de inicio:\", start)\n",
    "print(\"Punto de destino:\", end)"
   ]
  },
  {
   "cell_type": "markdown",
   "id": "45d802d5",
   "metadata": {},
   "source": [
    "# Producción de rutas"
   ]
  },
  {
   "cell_type": "markdown",
   "id": "8793c349",
   "metadata": {},
   "source": [
    "## Validamos puntos seleccionados"
   ]
  },
  {
   "cell_type": "code",
   "execution_count": 23,
   "id": "e69e862e",
   "metadata": {},
   "outputs": [
    {
     "name": "stdout",
     "output_type": "stream",
     "text": [
      "Inicio: (38.907596, 1.993112)\n",
      "Destino: (39.964275, 3.426313)\n"
     ]
    }
   ],
   "source": [
    "from map_interaction.select_points import get_validated_start_end_points\n",
    "\n",
    "u, v = get_validated_start_end_points()\n",
    "print(\"Inicio:\", u)\n",
    "print(\"Destino:\", v)\n"
   ]
  },
  {
   "cell_type": "markdown",
   "id": "7d2bdf8d",
   "metadata": {},
   "source": [
    "## Ingrasamos origen-destino como nodos en el grafo"
   ]
  },
  {
   "cell_type": "code",
   "execution_count": 2,
   "id": "009c264e",
   "metadata": {},
   "outputs": [],
   "source": [
    "from pathfinding.search import load_gpickle_compatible, run_dijkstra\n",
    "from pathfinding.plot_route import plot_route_on_graph\n",
    "from map_interaction.select_points import process_geojson, load_selection_geojson"
   ]
  },
  {
   "cell_type": "code",
   "execution_count": null,
   "id": "0c6f74e3",
   "metadata": {},
   "outputs": [],
   "source": [
    "# Cargar grafo\n",
    "grafo_path = os.path.join(\"..\", \"data\", \"raw\", \"grafo\", \"weather_routing_graph.gpickle\")\n",
    "G = load_gpickle_compatible(grafo_path)"
   ]
  },
  {
   "cell_type": "code",
   "execution_count": 1,
   "id": "5c0adccd",
   "metadata": {},
   "outputs": [],
   "source": [
    "# Cell 0 - Configurar ruta de proyecto\n",
    "import sys, os\n",
    "project_root = os.path.abspath(os.path.join(os.getcwd(), os.pardir))\n",
    "if project_root not in sys.path:\n",
    "    sys.path.append(project_root)\n",
    "\n",
    "# Cell 1 - Imports de módulos\n",
    "import pandas as pd\n",
    "import json\n",
    "import networkx as nx\n",
    "from shapely.geometry import shape\n",
    "from shapely.ops import unary_union\n",
    "\n",
    "from utils.config import SAVE_DIR\n",
    "from map_interaction.select_points import get_validated_start_end_points\n",
    "from graph.env_data import fetch_depth, evaluate_navigability, batch_evaluate_navigability\n",
    "from graph.wind_data import fetch_hourly_wind, evaluate_point_wind, batch_evaluate_wind\n",
    "from graph.nautical_constraints import (\n",
    "    fetch_seamark_elements, classify_seamarks,\n",
    "    mark_blocked_seamark, create_buoy_nodes,\n",
    "    combine_mesh_and_buoys, compute_navigable_final\n",
    ")\n",
    "from utils.geo_utils import haversine, bearing\n",
    "from graph.calculate_weights import PolarDiagram\n",
    "from graph.augment_graph import augment_with_start_end\n",
    "\n"
   ]
  },
  {
   "cell_type": "code",
   "execution_count": 3,
   "id": "d449d295",
   "metadata": {},
   "outputs": [
    {
     "name": "stdout",
     "output_type": "stream",
     "text": [
      "START: (38.907596, 1.993112)\n",
      "END:   (39.964275, 3.426313)\n"
     ]
    }
   ],
   "source": [
    "# Cell 2 - Validar puntos START y END\n",
    "start, end = get_validated_start_end_points()\n",
    "print(\"START:\", start)\n",
    "print(\"END:  \", end)"
   ]
  },
  {
   "cell_type": "code",
   "execution_count": 4,
   "id": "9a41f137",
   "metadata": {},
   "outputs": [],
   "source": [
    "# Define parámetros de ejemplo\n",
    "boat_data = {\"draft\": 1.5, \"w_max\": 25.0}\n",
    "start_date, end_date = \"2025-06-06\", \"2025-06-06\""
   ]
  },
  {
   "cell_type": "code",
   "execution_count": 5,
   "id": "1a6ba5c1",
   "metadata": {},
   "outputs": [
    {
     "name": "stdout",
     "output_type": "stream",
     "text": [
      "Profundidad en START: None m\n",
      "START navegable por profundidad: True\n"
     ]
    }
   ],
   "source": [
    "# Cell 3 - Probar datos de batimetría\n",
    "depth_start = fetch_depth(*start[::-1])  # fetch_depth expects lat, lon\n",
    "print(f\"Profundidad en START: {depth_start} m\")\n",
    "nav_start = evaluate_navigability(*start, boat_data[\"draft\"])\n",
    "print(\"START navegable por profundidad:\", nav_start[\"navigable\"])"
   ]
  },
  {
   "cell_type": "code",
   "execution_count": 6,
   "id": "68152cf1",
   "metadata": {},
   "outputs": [
    {
     "name": "stdout",
     "output_type": "stream",
     "text": [
      "Primeros registros de viento en START:\n",
      "{'time': ['2025-06-06T00:00', '2025-06-06T01:00', '2025-06-06T02:00'], 'wind_speed_10m': [3.2, 1.6, 0.9], 'wind_direction_10m': [169, 173, 63]}\n"
     ]
    }
   ],
   "source": [
    "# Cell 4 - Probar datos de viento\n",
    "wind_data_start = fetch_hourly_wind(start[0], start[1], start_date, end_date)\n",
    "print(\"Primeros registros de viento en START:\")\n",
    "if wind_data_start:\n",
    "    print({k: v[:3] for k, v in wind_data_start.items()})"
   ]
  },
  {
   "cell_type": "code",
   "execution_count": 7,
   "id": "138eb575",
   "metadata": {},
   "outputs": [
    {
     "name": "stdout",
     "output_type": "stream",
     "text": [
      "Batch batimetría: [{'latitude': 38.907596, 'longitude': 1.993112, 'depth_avg': -667.2, 'navigable': True}, {'latitude': 39.964275, 'longitude': 3.426313, 'depth_avg': -137.83704, 'navigable': True}]\n",
      "Número de registros de viento procesados: 48\n"
     ]
    }
   ],
   "source": [
    "# Cell 5 - Batch evaluaciones\n",
    "bathy_results = batch_evaluate_navigability([start, end], boat_data[\"draft\"])\n",
    "print(\"Batch batimetría:\", bathy_results)\n",
    "wind_results = batch_evaluate_wind(bathy_results, boat_data, start_date, end_date)\n",
    "print(\"Número de registros de viento procesados:\", len(wind_results))"
   ]
  },
  {
   "cell_type": "code",
   "execution_count": 8,
   "id": "d910d7f6",
   "metadata": {},
   "outputs": [
    {
     "name": "stdout",
     "output_type": "stream",
     "text": [
      "Zonas restringidas: 14\n",
      "Boyas de peligro: 198\n"
     ]
    }
   ],
   "source": [
    "# Cell 6 - Probar restricciones náuticas\n",
    "# Cargar área para seamarks\n",
    "area_path = os.path.join(SAVE_DIR, \"selection.geojson\")\n",
    "with open(area_path, 'r', encoding='utf-8') as f:\n",
    "    area_gj = json.load(f)\n",
    "poly = shape(area_gj[\"features\"][0][\"geometry\"])\n",
    "minx, miny, maxx, maxy = poly.bounds\n",
    "elements = fetch_seamark_elements(miny, minx, maxy, maxx)\n",
    "restricted, buoys = classify_seamarks(elements)\n",
    "print(\"Zonas restringidas:\", len(restricted))\n",
    "print(\"Boyas de peligro:\", len(buoys))"
   ]
  },
  {
   "cell_type": "code",
   "execution_count": 9,
   "id": "a6288127",
   "metadata": {},
   "outputs": [
    {
     "name": "stdout",
     "output_type": "stream",
     "text": [
      "Nodos combinados:\n",
      "      latitude  longitude depth_avg wind_speed_10m wind_direction_10m  \\\n",
      "0    38.907596   1.993112      None           None               None   \n",
      "1    39.964275   3.426313      None           None               None   \n",
      "2    39.953173   0.045324      None           None               None   \n",
      "3    38.979830   1.588132      None           None               None   \n",
      "4    39.531828   2.588177      None           None               None   \n",
      "..         ...        ...       ...            ...                ...   \n",
      "195  38.846944   0.143333      None           None               None   \n",
      "196  38.840139   0.152500      None           None               None   \n",
      "197  38.833889   0.160556      None           None               None   \n",
      "198  38.802639   0.202083      None           None               None   \n",
      "199  39.896667   2.724167      None           None               None   \n",
      "\n",
      "     navigable  blocked_seamark  is_buoy  time  navigable_final  \n",
      "0         True            False    False   NaN             True  \n",
      "1         True            False    False   NaN             True  \n",
      "2        False             True     True  None            False  \n",
      "3        False             True     True  None            False  \n",
      "4        False             True     True  None            False  \n",
      "..         ...              ...      ...   ...              ...  \n",
      "195      False             True     True  None            False  \n",
      "196      False             True     True  None            False  \n",
      "197      False             True     True  None            False  \n",
      "198      False             True     True  None            False  \n",
      "199      False             True     True  None            False  \n",
      "\n",
      "[200 rows x 10 columns]\n"
     ]
    }
   ],
   "source": [
    "# Crear un DataFrame de nodos inicial con START y END\n",
    "nodes_df = pd.DataFrame([{\n",
    "    \"latitude\": start[0], \"longitude\": start[1],\n",
    "    \"depth_avg\": depth_start, \"wind_speed_10m\": None,\n",
    "    \"wind_direction_10m\": None, \"navigable\": nav_start[\"navigable\"]\n",
    "}, {\n",
    "    \"latitude\": end[0], \"longitude\": end[1],\n",
    "    \"depth_avg\": fetch_depth(*end[::-1]),\n",
    "    \"wind_speed_10m\": None, \"wind_direction_10m\": None,\n",
    "    \"navigable\": bool(evaluate_navigability(*end, boat_data[\"draft\"])[\"navigable\"])\n",
    "}])\n",
    "nodes_df['blocked_seamark'] = mark_blocked_seamark(nodes_df, restricted)\n",
    "buoy_df = create_buoy_nodes(buoys)\n",
    "combined = combine_mesh_and_buoys(nodes_df, buoy_df)\n",
    "combined['navigable_final'] = compute_navigable_final(combined)\n",
    "print(\"Nodos combinados:\")\n",
    "print(combined)"
   ]
  },
  {
   "cell_type": "code",
   "execution_count": 10,
   "id": "35692b07",
   "metadata": {},
   "outputs": [
    {
     "name": "stdout",
     "output_type": "stream",
     "text": [
      "Distancia START→END: 170157.06 m, Rumbo: 45.9°\n"
     ]
    }
   ],
   "source": [
    "# Cell 7 - Probar utilidades geográficas y polar\n",
    "# Distancia y rumbo entre START y END\n",
    "dist = haversine(start[1], start[0], end[1], end[0])\n",
    "brg = bearing(start[1], start[0], end[1], end[0])\n",
    "print(f\"Distancia START→END: {dist:.2f} m, Rumbo: {brg:.1f}°\")\n"
   ]
  },
  {
   "cell_type": "code",
   "execution_count": 11,
   "id": "dafe8434",
   "metadata": {},
   "outputs": [
    {
     "name": "stdout",
     "output_type": "stream",
     "text": [
      "Velocidad teórica para TWA=45.9°: 0.25 kn\n"
     ]
    }
   ],
   "source": [
    "# Cargar diagrama polar de ejemplo\n",
    "polar_df = pd.read_csv(os.path.join(\"..\", \"data\", \"raw\", \"malla\", \"polar_diagram.csv\"))\n",
    "polar = PolarDiagram(polar_df)\n",
    "speed = polar.get_speed(brg)\n",
    "print(f\"Velocidad teórica para TWA={brg:.1f}°: {speed:.2f} kn\")"
   ]
  },
  {
   "cell_type": "code",
   "execution_count": 12,
   "id": "75ca282e",
   "metadata": {},
   "outputs": [
    {
     "name": "stdout",
     "output_type": "stream",
     "text": [
      "Grafo aumentado: 4997 nodos, 112750 aristas\n"
     ]
    }
   ],
   "source": [
    "# Cell 8 - Probar augment_graph\n",
    "# Cargar grafo original\n",
    "gpath = os.path.join(\"..\", \"data\", \"raw\", \"grafo_navegable\", \"weather_routing_graph.gpickle\")\n",
    "G = nx.read_gpickle(gpath)\n",
    "# Cargar zonas prohibidas\n",
    "nz_path = os.path.join(\"..\", \"data\", \"raw\", \"malla\", \"non_navigable_zones.json\")\n",
    "with open(nz_path, 'r') as f:\n",
    "    nz = json.load(f)\n",
    "union_restr = unary_union([shape(feat['geometry']) for feat in nz['features']])\n",
    "# Aumentar grafo\n",
    "G_aug = augment_with_start_end(G, start, end, union_restr, polar)\n",
    "print(\"Grafo aumentado:\", G_aug.number_of_nodes(), \"nodos,\", G_aug.number_of_edges(), \"aristas\")"
   ]
  },
  {
   "cell_type": "markdown",
   "id": "b0ccf0a6",
   "metadata": {},
   "source": [
    "## Busqueda de camino"
   ]
  },
  {
   "cell_type": "code",
   "execution_count": 13,
   "id": "bad844e5",
   "metadata": {},
   "outputs": [],
   "source": [
    "# 3) Aumentar el grafo con START y END\n",
    "#    (start, end vienen de get_validated_start_end_points())\n",
    "G_aug = augment_with_start_end(\n",
    "    G,\n",
    "    start=start,\n",
    "    end=end,\n",
    "    union_restr=union_restr,\n",
    "    polar=polar,\n",
    "    max_neighbors=32,\n",
    "    neighbor_radius=0.05,\n",
    "    alpha_time=1.0,\n",
    "    beta_comfort=0.1\n",
    ")"
   ]
  },
  {
   "cell_type": "code",
   "execution_count": 14,
   "id": "c43d58e8",
   "metadata": {},
   "outputs": [
    {
     "name": "stdout",
     "output_type": "stream",
     "text": [
      "Grado START: 4\n",
      "Sus sucesores: [2397, 2278, 2277, 2396]\n",
      "Grado END: 4\n",
      "Sus predecesores: [4609, 4498, 4497, 4608]\n"
     ]
    }
   ],
   "source": [
    "print(\"Grado START:\", G_aug.degree('START'))\n",
    "print(\"Sus sucesores:\", list(G_aug.successors('START')))\n",
    "print(\"Grado END:\", G_aug.degree('END'))\n",
    "print(\"Sus predecesores:\", list(G_aug.predecessors('END')))\n"
   ]
  },
  {
   "cell_type": "code",
   "execution_count": 15,
   "id": "e24df340",
   "metadata": {},
   "outputs": [
    {
     "name": "stdout",
     "output_type": "stream",
     "text": [
      "Dijkstra → coste = 269.34, saltos = 24, tiempo = 0.116s\n"
     ]
    }
   ],
   "source": [
    "# 4) Ejecutar Dijkstra\n",
    "result = run_dijkstra(G_aug, 'START', 'END', weight='weight')\n",
    "print(f\"Dijkstra → coste = {result['cost']:.2f}, \"\n",
    "      f\"saltos = {result['hops']}, tiempo = {result['time']:.3f}s\")"
   ]
  },
  {
   "cell_type": "code",
   "execution_count": 16,
   "id": "3125a49c",
   "metadata": {},
   "outputs": [
    {
     "data": {
      "text/html": [
       "<div style=\"width:100%;\"><div style=\"position:relative;width:100%;height:0;padding-bottom:60%;\"><span style=\"color:#565656\">Make this Notebook Trusted to load map: File -> Trust Notebook</span><iframe srcdoc=\"&lt;!DOCTYPE html&gt;\n",
       "&lt;html&gt;\n",
       "&lt;head&gt;\n",
       "    \n",
       "    &lt;meta http-equiv=&quot;content-type&quot; content=&quot;text/html; charset=UTF-8&quot; /&gt;\n",
       "    &lt;script src=&quot;https://cdn.jsdelivr.net/npm/leaflet@1.9.3/dist/leaflet.js&quot;&gt;&lt;/script&gt;\n",
       "    &lt;script src=&quot;https://code.jquery.com/jquery-3.7.1.min.js&quot;&gt;&lt;/script&gt;\n",
       "    &lt;script src=&quot;https://cdn.jsdelivr.net/npm/bootstrap@5.2.2/dist/js/bootstrap.bundle.min.js&quot;&gt;&lt;/script&gt;\n",
       "    &lt;script src=&quot;https://cdnjs.cloudflare.com/ajax/libs/Leaflet.awesome-markers/2.0.2/leaflet.awesome-markers.js&quot;&gt;&lt;/script&gt;\n",
       "    &lt;link rel=&quot;stylesheet&quot; href=&quot;https://cdn.jsdelivr.net/npm/leaflet@1.9.3/dist/leaflet.css&quot;/&gt;\n",
       "    &lt;link rel=&quot;stylesheet&quot; href=&quot;https://cdn.jsdelivr.net/npm/bootstrap@5.2.2/dist/css/bootstrap.min.css&quot;/&gt;\n",
       "    &lt;link rel=&quot;stylesheet&quot; href=&quot;https://netdna.bootstrapcdn.com/bootstrap/3.0.0/css/bootstrap-glyphicons.css&quot;/&gt;\n",
       "    &lt;link rel=&quot;stylesheet&quot; href=&quot;https://cdn.jsdelivr.net/npm/@fortawesome/fontawesome-free@6.2.0/css/all.min.css&quot;/&gt;\n",
       "    &lt;link rel=&quot;stylesheet&quot; href=&quot;https://cdnjs.cloudflare.com/ajax/libs/Leaflet.awesome-markers/2.0.2/leaflet.awesome-markers.css&quot;/&gt;\n",
       "    &lt;link rel=&quot;stylesheet&quot; href=&quot;https://cdn.jsdelivr.net/gh/python-visualization/folium/folium/templates/leaflet.awesome.rotate.min.css&quot;/&gt;\n",
       "    \n",
       "            &lt;meta name=&quot;viewport&quot; content=&quot;width=device-width,\n",
       "                initial-scale=1.0, maximum-scale=1.0, user-scalable=no&quot; /&gt;\n",
       "            &lt;style&gt;\n",
       "                #map_7b55135fe4505813513ccc23098ee891 {\n",
       "                    position: relative;\n",
       "                    width: 100.0%;\n",
       "                    height: 100.0%;\n",
       "                    left: 0.0%;\n",
       "                    top: 0.0%;\n",
       "                }\n",
       "                .leaflet-container { font-size: 1rem; }\n",
       "            &lt;/style&gt;\n",
       "\n",
       "            &lt;style&gt;html, body {\n",
       "                width: 100%;\n",
       "                height: 100%;\n",
       "                margin: 0;\n",
       "                padding: 0;\n",
       "            }\n",
       "            &lt;/style&gt;\n",
       "\n",
       "            &lt;style&gt;#map {\n",
       "                position:absolute;\n",
       "                top:0;\n",
       "                bottom:0;\n",
       "                right:0;\n",
       "                left:0;\n",
       "                }\n",
       "            &lt;/style&gt;\n",
       "\n",
       "            &lt;script&gt;\n",
       "                L_NO_TOUCH = false;\n",
       "                L_DISABLE_3D = false;\n",
       "            &lt;/script&gt;\n",
       "\n",
       "        \n",
       "&lt;/head&gt;\n",
       "&lt;body&gt;\n",
       "    \n",
       "    \n",
       "            &lt;div class=&quot;folium-map&quot; id=&quot;map_7b55135fe4505813513ccc23098ee891&quot; &gt;&lt;/div&gt;\n",
       "        \n",
       "&lt;/body&gt;\n",
       "&lt;script&gt;\n",
       "    \n",
       "    \n",
       "            var map_7b55135fe4505813513ccc23098ee891 = L.map(\n",
       "                &quot;map_7b55135fe4505813513ccc23098ee891&quot;,\n",
       "                {\n",
       "                    center: [38.907596, 1.993112],\n",
       "                    crs: L.CRS.EPSG3857,\n",
       "                    ...{\n",
       "  &quot;zoom&quot;: 10,\n",
       "  &quot;zoomControl&quot;: true,\n",
       "  &quot;preferCanvas&quot;: false,\n",
       "}\n",
       "\n",
       "                }\n",
       "            );\n",
       "\n",
       "            \n",
       "\n",
       "        \n",
       "    \n",
       "            var tile_layer_90c3c7c8e1a53f46e5f6b49840bd5aca = L.tileLayer(\n",
       "                &quot;https://tile.openstreetmap.org/{z}/{x}/{y}.png&quot;,\n",
       "                {\n",
       "  &quot;minZoom&quot;: 0,\n",
       "  &quot;maxZoom&quot;: 19,\n",
       "  &quot;maxNativeZoom&quot;: 19,\n",
       "  &quot;noWrap&quot;: false,\n",
       "  &quot;attribution&quot;: &quot;\\u0026copy; \\u003ca href=\\&quot;https://www.openstreetmap.org/copyright\\&quot;\\u003eOpenStreetMap\\u003c/a\\u003e contributors&quot;,\n",
       "  &quot;subdomains&quot;: &quot;abc&quot;,\n",
       "  &quot;detectRetina&quot;: false,\n",
       "  &quot;tms&quot;: false,\n",
       "  &quot;opacity&quot;: 1,\n",
       "}\n",
       "\n",
       "            );\n",
       "        \n",
       "    \n",
       "            tile_layer_90c3c7c8e1a53f46e5f6b49840bd5aca.addTo(map_7b55135fe4505813513ccc23098ee891);\n",
       "        \n",
       "    \n",
       "            var poly_line_9d3c91e836c18a2fa4f96c8dc240022e = L.polyline(\n",
       "                [[38.907596, 1.993112], [38.93719612229215, 2.0010760000000003], [38.99316607506599, 2.0850760000000004], [39.0490914415286, 2.1690760000000004], [39.16080834648752, 2.2950760000000003], [39.21659985092966, 2.337076], [39.27234670095148, 2.337076], [39.328048879986326, 2.3790760000000004], [39.4393191597462, 2.421076], [39.49488722825432, 2.3790760000000004], [39.661322958822375, 2.4630760000000005], [39.71671199245711, 2.547076000000001], [39.77205622915002, 2.547076000000001], [39.82735565397359, 2.5890760000000004], [39.937820009204, 2.7150760000000003], [39.937820009204, 2.7570760000000005], [39.99298491065609, 2.7570760000000005], [40.048104942328514, 2.7990760000000003], [40.10318009019184, 2.8830760000000004], [40.15821034039509, 3.0090760000000003], [40.15821034039509, 3.051076000000001], [40.10318009019184, 3.1770760000000005], [40.048104942328514, 3.2610760000000005], [39.937820009204, 3.3870760000000004], [39.964275, 3.426313]],\n",
       "                {&quot;bubblingMouseEvents&quot;: true, &quot;color&quot;: &quot;orange&quot;, &quot;dashArray&quot;: null, &quot;dashOffset&quot;: null, &quot;fill&quot;: false, &quot;fillColor&quot;: &quot;orange&quot;, &quot;fillOpacity&quot;: 0.2, &quot;fillRule&quot;: &quot;evenodd&quot;, &quot;lineCap&quot;: &quot;round&quot;, &quot;lineJoin&quot;: &quot;round&quot;, &quot;noClip&quot;: false, &quot;opacity&quot;: 0.8, &quot;smoothFactor&quot;: 1.0, &quot;stroke&quot;: true, &quot;weight&quot;: 3}\n",
       "            ).addTo(map_7b55135fe4505813513ccc23098ee891);\n",
       "        \n",
       "    \n",
       "            poly_line_9d3c91e836c18a2fa4f96c8dc240022e.bindTooltip(\n",
       "                `&lt;div&gt;\n",
       "                     Ruta óptima\n",
       "                 &lt;/div&gt;`,\n",
       "                {\n",
       "  &quot;sticky&quot;: true,\n",
       "}\n",
       "            );\n",
       "        \n",
       "    \n",
       "            var circle_marker_34b600adb1e518f5908237318fd0fd95 = L.circleMarker(\n",
       "                [38.907596, 1.993112],\n",
       "                {&quot;bubblingMouseEvents&quot;: true, &quot;color&quot;: &quot;lightblue&quot;, &quot;dashArray&quot;: null, &quot;dashOffset&quot;: null, &quot;fill&quot;: true, &quot;fillColor&quot;: &quot;lightblue&quot;, &quot;fillOpacity&quot;: 0.7, &quot;fillRule&quot;: &quot;evenodd&quot;, &quot;lineCap&quot;: &quot;round&quot;, &quot;lineJoin&quot;: &quot;round&quot;, &quot;opacity&quot;: 1.0, &quot;radius&quot;: 3, &quot;stroke&quot;: true, &quot;weight&quot;: 3}\n",
       "            ).addTo(map_7b55135fe4505813513ccc23098ee891);\n",
       "        \n",
       "    \n",
       "            var circle_marker_54387784a31f959d3324f93ace4546a9 = L.circleMarker(\n",
       "                [38.93719612229215, 2.0010760000000003],\n",
       "                {&quot;bubblingMouseEvents&quot;: true, &quot;color&quot;: &quot;lightblue&quot;, &quot;dashArray&quot;: null, &quot;dashOffset&quot;: null, &quot;fill&quot;: true, &quot;fillColor&quot;: &quot;lightblue&quot;, &quot;fillOpacity&quot;: 0.7, &quot;fillRule&quot;: &quot;evenodd&quot;, &quot;lineCap&quot;: &quot;round&quot;, &quot;lineJoin&quot;: &quot;round&quot;, &quot;opacity&quot;: 1.0, &quot;radius&quot;: 3, &quot;stroke&quot;: true, &quot;weight&quot;: 3}\n",
       "            ).addTo(map_7b55135fe4505813513ccc23098ee891);\n",
       "        \n",
       "    \n",
       "            var circle_marker_39b017e97a511407cc801e08c1c78a5b = L.circleMarker(\n",
       "                [38.99316607506599, 2.0850760000000004],\n",
       "                {&quot;bubblingMouseEvents&quot;: true, &quot;color&quot;: &quot;lightblue&quot;, &quot;dashArray&quot;: null, &quot;dashOffset&quot;: null, &quot;fill&quot;: true, &quot;fillColor&quot;: &quot;lightblue&quot;, &quot;fillOpacity&quot;: 0.7, &quot;fillRule&quot;: &quot;evenodd&quot;, &quot;lineCap&quot;: &quot;round&quot;, &quot;lineJoin&quot;: &quot;round&quot;, &quot;opacity&quot;: 1.0, &quot;radius&quot;: 3, &quot;stroke&quot;: true, &quot;weight&quot;: 3}\n",
       "            ).addTo(map_7b55135fe4505813513ccc23098ee891);\n",
       "        \n",
       "    \n",
       "            var circle_marker_a331a9c57e45979b3538304e1ebcdcc4 = L.circleMarker(\n",
       "                [39.0490914415286, 2.1690760000000004],\n",
       "                {&quot;bubblingMouseEvents&quot;: true, &quot;color&quot;: &quot;lightblue&quot;, &quot;dashArray&quot;: null, &quot;dashOffset&quot;: null, &quot;fill&quot;: true, &quot;fillColor&quot;: &quot;lightblue&quot;, &quot;fillOpacity&quot;: 0.7, &quot;fillRule&quot;: &quot;evenodd&quot;, &quot;lineCap&quot;: &quot;round&quot;, &quot;lineJoin&quot;: &quot;round&quot;, &quot;opacity&quot;: 1.0, &quot;radius&quot;: 3, &quot;stroke&quot;: true, &quot;weight&quot;: 3}\n",
       "            ).addTo(map_7b55135fe4505813513ccc23098ee891);\n",
       "        \n",
       "    \n",
       "            var circle_marker_53c38068e632224697cbd8f1cc53204f = L.circleMarker(\n",
       "                [39.16080834648752, 2.2950760000000003],\n",
       "                {&quot;bubblingMouseEvents&quot;: true, &quot;color&quot;: &quot;lightblue&quot;, &quot;dashArray&quot;: null, &quot;dashOffset&quot;: null, &quot;fill&quot;: true, &quot;fillColor&quot;: &quot;lightblue&quot;, &quot;fillOpacity&quot;: 0.7, &quot;fillRule&quot;: &quot;evenodd&quot;, &quot;lineCap&quot;: &quot;round&quot;, &quot;lineJoin&quot;: &quot;round&quot;, &quot;opacity&quot;: 1.0, &quot;radius&quot;: 3, &quot;stroke&quot;: true, &quot;weight&quot;: 3}\n",
       "            ).addTo(map_7b55135fe4505813513ccc23098ee891);\n",
       "        \n",
       "    \n",
       "            var circle_marker_97593b5f9ff207613564b0aff8416de5 = L.circleMarker(\n",
       "                [39.21659985092966, 2.337076],\n",
       "                {&quot;bubblingMouseEvents&quot;: true, &quot;color&quot;: &quot;lightblue&quot;, &quot;dashArray&quot;: null, &quot;dashOffset&quot;: null, &quot;fill&quot;: true, &quot;fillColor&quot;: &quot;lightblue&quot;, &quot;fillOpacity&quot;: 0.7, &quot;fillRule&quot;: &quot;evenodd&quot;, &quot;lineCap&quot;: &quot;round&quot;, &quot;lineJoin&quot;: &quot;round&quot;, &quot;opacity&quot;: 1.0, &quot;radius&quot;: 3, &quot;stroke&quot;: true, &quot;weight&quot;: 3}\n",
       "            ).addTo(map_7b55135fe4505813513ccc23098ee891);\n",
       "        \n",
       "    \n",
       "            var circle_marker_cf9d9f75666eb4d6262932ca13f68144 = L.circleMarker(\n",
       "                [39.27234670095148, 2.337076],\n",
       "                {&quot;bubblingMouseEvents&quot;: true, &quot;color&quot;: &quot;lightblue&quot;, &quot;dashArray&quot;: null, &quot;dashOffset&quot;: null, &quot;fill&quot;: true, &quot;fillColor&quot;: &quot;lightblue&quot;, &quot;fillOpacity&quot;: 0.7, &quot;fillRule&quot;: &quot;evenodd&quot;, &quot;lineCap&quot;: &quot;round&quot;, &quot;lineJoin&quot;: &quot;round&quot;, &quot;opacity&quot;: 1.0, &quot;radius&quot;: 3, &quot;stroke&quot;: true, &quot;weight&quot;: 3}\n",
       "            ).addTo(map_7b55135fe4505813513ccc23098ee891);\n",
       "        \n",
       "    \n",
       "            var circle_marker_ffa50d1ee0738aa1dba7ee3dd62f6577 = L.circleMarker(\n",
       "                [39.328048879986326, 2.3790760000000004],\n",
       "                {&quot;bubblingMouseEvents&quot;: true, &quot;color&quot;: &quot;lightblue&quot;, &quot;dashArray&quot;: null, &quot;dashOffset&quot;: null, &quot;fill&quot;: true, &quot;fillColor&quot;: &quot;lightblue&quot;, &quot;fillOpacity&quot;: 0.7, &quot;fillRule&quot;: &quot;evenodd&quot;, &quot;lineCap&quot;: &quot;round&quot;, &quot;lineJoin&quot;: &quot;round&quot;, &quot;opacity&quot;: 1.0, &quot;radius&quot;: 3, &quot;stroke&quot;: true, &quot;weight&quot;: 3}\n",
       "            ).addTo(map_7b55135fe4505813513ccc23098ee891);\n",
       "        \n",
       "    \n",
       "            var circle_marker_65c571c4c55e8188774c192ab184b4a9 = L.circleMarker(\n",
       "                [39.4393191597462, 2.421076],\n",
       "                {&quot;bubblingMouseEvents&quot;: true, &quot;color&quot;: &quot;lightblue&quot;, &quot;dashArray&quot;: null, &quot;dashOffset&quot;: null, &quot;fill&quot;: true, &quot;fillColor&quot;: &quot;lightblue&quot;, &quot;fillOpacity&quot;: 0.7, &quot;fillRule&quot;: &quot;evenodd&quot;, &quot;lineCap&quot;: &quot;round&quot;, &quot;lineJoin&quot;: &quot;round&quot;, &quot;opacity&quot;: 1.0, &quot;radius&quot;: 3, &quot;stroke&quot;: true, &quot;weight&quot;: 3}\n",
       "            ).addTo(map_7b55135fe4505813513ccc23098ee891);\n",
       "        \n",
       "    \n",
       "            var circle_marker_016104c1923d4bec88657ce749ef41d0 = L.circleMarker(\n",
       "                [39.49488722825432, 2.3790760000000004],\n",
       "                {&quot;bubblingMouseEvents&quot;: true, &quot;color&quot;: &quot;lightblue&quot;, &quot;dashArray&quot;: null, &quot;dashOffset&quot;: null, &quot;fill&quot;: true, &quot;fillColor&quot;: &quot;lightblue&quot;, &quot;fillOpacity&quot;: 0.7, &quot;fillRule&quot;: &quot;evenodd&quot;, &quot;lineCap&quot;: &quot;round&quot;, &quot;lineJoin&quot;: &quot;round&quot;, &quot;opacity&quot;: 1.0, &quot;radius&quot;: 3, &quot;stroke&quot;: true, &quot;weight&quot;: 3}\n",
       "            ).addTo(map_7b55135fe4505813513ccc23098ee891);\n",
       "        \n",
       "    \n",
       "            var circle_marker_d6cf08b17085aa7d269646d54d8f1133 = L.circleMarker(\n",
       "                [39.661322958822375, 2.4630760000000005],\n",
       "                {&quot;bubblingMouseEvents&quot;: true, &quot;color&quot;: &quot;lightblue&quot;, &quot;dashArray&quot;: null, &quot;dashOffset&quot;: null, &quot;fill&quot;: true, &quot;fillColor&quot;: &quot;lightblue&quot;, &quot;fillOpacity&quot;: 0.7, &quot;fillRule&quot;: &quot;evenodd&quot;, &quot;lineCap&quot;: &quot;round&quot;, &quot;lineJoin&quot;: &quot;round&quot;, &quot;opacity&quot;: 1.0, &quot;radius&quot;: 3, &quot;stroke&quot;: true, &quot;weight&quot;: 3}\n",
       "            ).addTo(map_7b55135fe4505813513ccc23098ee891);\n",
       "        \n",
       "    \n",
       "            var circle_marker_64ad06f6efe9a25872ff29bb73cdd34f = L.circleMarker(\n",
       "                [39.71671199245711, 2.547076000000001],\n",
       "                {&quot;bubblingMouseEvents&quot;: true, &quot;color&quot;: &quot;lightblue&quot;, &quot;dashArray&quot;: null, &quot;dashOffset&quot;: null, &quot;fill&quot;: true, &quot;fillColor&quot;: &quot;lightblue&quot;, &quot;fillOpacity&quot;: 0.7, &quot;fillRule&quot;: &quot;evenodd&quot;, &quot;lineCap&quot;: &quot;round&quot;, &quot;lineJoin&quot;: &quot;round&quot;, &quot;opacity&quot;: 1.0, &quot;radius&quot;: 3, &quot;stroke&quot;: true, &quot;weight&quot;: 3}\n",
       "            ).addTo(map_7b55135fe4505813513ccc23098ee891);\n",
       "        \n",
       "    \n",
       "            var circle_marker_0819ad67fa02a213937cd68d02295535 = L.circleMarker(\n",
       "                [39.77205622915002, 2.547076000000001],\n",
       "                {&quot;bubblingMouseEvents&quot;: true, &quot;color&quot;: &quot;lightblue&quot;, &quot;dashArray&quot;: null, &quot;dashOffset&quot;: null, &quot;fill&quot;: true, &quot;fillColor&quot;: &quot;lightblue&quot;, &quot;fillOpacity&quot;: 0.7, &quot;fillRule&quot;: &quot;evenodd&quot;, &quot;lineCap&quot;: &quot;round&quot;, &quot;lineJoin&quot;: &quot;round&quot;, &quot;opacity&quot;: 1.0, &quot;radius&quot;: 3, &quot;stroke&quot;: true, &quot;weight&quot;: 3}\n",
       "            ).addTo(map_7b55135fe4505813513ccc23098ee891);\n",
       "        \n",
       "    \n",
       "            var circle_marker_979f9374bafc54615d805d7390305988 = L.circleMarker(\n",
       "                [39.82735565397359, 2.5890760000000004],\n",
       "                {&quot;bubblingMouseEvents&quot;: true, &quot;color&quot;: &quot;lightblue&quot;, &quot;dashArray&quot;: null, &quot;dashOffset&quot;: null, &quot;fill&quot;: true, &quot;fillColor&quot;: &quot;lightblue&quot;, &quot;fillOpacity&quot;: 0.7, &quot;fillRule&quot;: &quot;evenodd&quot;, &quot;lineCap&quot;: &quot;round&quot;, &quot;lineJoin&quot;: &quot;round&quot;, &quot;opacity&quot;: 1.0, &quot;radius&quot;: 3, &quot;stroke&quot;: true, &quot;weight&quot;: 3}\n",
       "            ).addTo(map_7b55135fe4505813513ccc23098ee891);\n",
       "        \n",
       "    \n",
       "            var circle_marker_a39b85cabb11c56aa1de2c9aa1493659 = L.circleMarker(\n",
       "                [39.937820009204, 2.7150760000000003],\n",
       "                {&quot;bubblingMouseEvents&quot;: true, &quot;color&quot;: &quot;lightblue&quot;, &quot;dashArray&quot;: null, &quot;dashOffset&quot;: null, &quot;fill&quot;: true, &quot;fillColor&quot;: &quot;lightblue&quot;, &quot;fillOpacity&quot;: 0.7, &quot;fillRule&quot;: &quot;evenodd&quot;, &quot;lineCap&quot;: &quot;round&quot;, &quot;lineJoin&quot;: &quot;round&quot;, &quot;opacity&quot;: 1.0, &quot;radius&quot;: 3, &quot;stroke&quot;: true, &quot;weight&quot;: 3}\n",
       "            ).addTo(map_7b55135fe4505813513ccc23098ee891);\n",
       "        \n",
       "    \n",
       "            var circle_marker_cbd698d5bc91db1cad6ac956446e8e0e = L.circleMarker(\n",
       "                [39.937820009204, 2.7570760000000005],\n",
       "                {&quot;bubblingMouseEvents&quot;: true, &quot;color&quot;: &quot;lightblue&quot;, &quot;dashArray&quot;: null, &quot;dashOffset&quot;: null, &quot;fill&quot;: true, &quot;fillColor&quot;: &quot;lightblue&quot;, &quot;fillOpacity&quot;: 0.7, &quot;fillRule&quot;: &quot;evenodd&quot;, &quot;lineCap&quot;: &quot;round&quot;, &quot;lineJoin&quot;: &quot;round&quot;, &quot;opacity&quot;: 1.0, &quot;radius&quot;: 3, &quot;stroke&quot;: true, &quot;weight&quot;: 3}\n",
       "            ).addTo(map_7b55135fe4505813513ccc23098ee891);\n",
       "        \n",
       "    \n",
       "            var circle_marker_d16cabb8c79dea84b87fccdc3bd3cd5c = L.circleMarker(\n",
       "                [39.99298491065609, 2.7570760000000005],\n",
       "                {&quot;bubblingMouseEvents&quot;: true, &quot;color&quot;: &quot;lightblue&quot;, &quot;dashArray&quot;: null, &quot;dashOffset&quot;: null, &quot;fill&quot;: true, &quot;fillColor&quot;: &quot;lightblue&quot;, &quot;fillOpacity&quot;: 0.7, &quot;fillRule&quot;: &quot;evenodd&quot;, &quot;lineCap&quot;: &quot;round&quot;, &quot;lineJoin&quot;: &quot;round&quot;, &quot;opacity&quot;: 1.0, &quot;radius&quot;: 3, &quot;stroke&quot;: true, &quot;weight&quot;: 3}\n",
       "            ).addTo(map_7b55135fe4505813513ccc23098ee891);\n",
       "        \n",
       "    \n",
       "            var circle_marker_383ff909c03b9a3ababad554b897c024 = L.circleMarker(\n",
       "                [40.048104942328514, 2.7990760000000003],\n",
       "                {&quot;bubblingMouseEvents&quot;: true, &quot;color&quot;: &quot;lightblue&quot;, &quot;dashArray&quot;: null, &quot;dashOffset&quot;: null, &quot;fill&quot;: true, &quot;fillColor&quot;: &quot;lightblue&quot;, &quot;fillOpacity&quot;: 0.7, &quot;fillRule&quot;: &quot;evenodd&quot;, &quot;lineCap&quot;: &quot;round&quot;, &quot;lineJoin&quot;: &quot;round&quot;, &quot;opacity&quot;: 1.0, &quot;radius&quot;: 3, &quot;stroke&quot;: true, &quot;weight&quot;: 3}\n",
       "            ).addTo(map_7b55135fe4505813513ccc23098ee891);\n",
       "        \n",
       "    \n",
       "            var circle_marker_20c667e48b07043551dc493ca1a20821 = L.circleMarker(\n",
       "                [40.10318009019184, 2.8830760000000004],\n",
       "                {&quot;bubblingMouseEvents&quot;: true, &quot;color&quot;: &quot;lightblue&quot;, &quot;dashArray&quot;: null, &quot;dashOffset&quot;: null, &quot;fill&quot;: true, &quot;fillColor&quot;: &quot;lightblue&quot;, &quot;fillOpacity&quot;: 0.7, &quot;fillRule&quot;: &quot;evenodd&quot;, &quot;lineCap&quot;: &quot;round&quot;, &quot;lineJoin&quot;: &quot;round&quot;, &quot;opacity&quot;: 1.0, &quot;radius&quot;: 3, &quot;stroke&quot;: true, &quot;weight&quot;: 3}\n",
       "            ).addTo(map_7b55135fe4505813513ccc23098ee891);\n",
       "        \n",
       "    \n",
       "            var circle_marker_d1e7632a7beee49ad8ae19146b767bd5 = L.circleMarker(\n",
       "                [40.15821034039509, 3.0090760000000003],\n",
       "                {&quot;bubblingMouseEvents&quot;: true, &quot;color&quot;: &quot;lightblue&quot;, &quot;dashArray&quot;: null, &quot;dashOffset&quot;: null, &quot;fill&quot;: true, &quot;fillColor&quot;: &quot;lightblue&quot;, &quot;fillOpacity&quot;: 0.7, &quot;fillRule&quot;: &quot;evenodd&quot;, &quot;lineCap&quot;: &quot;round&quot;, &quot;lineJoin&quot;: &quot;round&quot;, &quot;opacity&quot;: 1.0, &quot;radius&quot;: 3, &quot;stroke&quot;: true, &quot;weight&quot;: 3}\n",
       "            ).addTo(map_7b55135fe4505813513ccc23098ee891);\n",
       "        \n",
       "    \n",
       "            var circle_marker_eda60f60dd4f3c494dd4cdc78d099a38 = L.circleMarker(\n",
       "                [40.15821034039509, 3.051076000000001],\n",
       "                {&quot;bubblingMouseEvents&quot;: true, &quot;color&quot;: &quot;lightblue&quot;, &quot;dashArray&quot;: null, &quot;dashOffset&quot;: null, &quot;fill&quot;: true, &quot;fillColor&quot;: &quot;lightblue&quot;, &quot;fillOpacity&quot;: 0.7, &quot;fillRule&quot;: &quot;evenodd&quot;, &quot;lineCap&quot;: &quot;round&quot;, &quot;lineJoin&quot;: &quot;round&quot;, &quot;opacity&quot;: 1.0, &quot;radius&quot;: 3, &quot;stroke&quot;: true, &quot;weight&quot;: 3}\n",
       "            ).addTo(map_7b55135fe4505813513ccc23098ee891);\n",
       "        \n",
       "    \n",
       "            var circle_marker_a38196767a7c6281a0c172128901e2cc = L.circleMarker(\n",
       "                [40.10318009019184, 3.1770760000000005],\n",
       "                {&quot;bubblingMouseEvents&quot;: true, &quot;color&quot;: &quot;lightblue&quot;, &quot;dashArray&quot;: null, &quot;dashOffset&quot;: null, &quot;fill&quot;: true, &quot;fillColor&quot;: &quot;lightblue&quot;, &quot;fillOpacity&quot;: 0.7, &quot;fillRule&quot;: &quot;evenodd&quot;, &quot;lineCap&quot;: &quot;round&quot;, &quot;lineJoin&quot;: &quot;round&quot;, &quot;opacity&quot;: 1.0, &quot;radius&quot;: 3, &quot;stroke&quot;: true, &quot;weight&quot;: 3}\n",
       "            ).addTo(map_7b55135fe4505813513ccc23098ee891);\n",
       "        \n",
       "    \n",
       "            var circle_marker_a3e7f2ec81cb393b7ce6785304469356 = L.circleMarker(\n",
       "                [40.048104942328514, 3.2610760000000005],\n",
       "                {&quot;bubblingMouseEvents&quot;: true, &quot;color&quot;: &quot;lightblue&quot;, &quot;dashArray&quot;: null, &quot;dashOffset&quot;: null, &quot;fill&quot;: true, &quot;fillColor&quot;: &quot;lightblue&quot;, &quot;fillOpacity&quot;: 0.7, &quot;fillRule&quot;: &quot;evenodd&quot;, &quot;lineCap&quot;: &quot;round&quot;, &quot;lineJoin&quot;: &quot;round&quot;, &quot;opacity&quot;: 1.0, &quot;radius&quot;: 3, &quot;stroke&quot;: true, &quot;weight&quot;: 3}\n",
       "            ).addTo(map_7b55135fe4505813513ccc23098ee891);\n",
       "        \n",
       "    \n",
       "            var circle_marker_faabb63fc0d9812c3b4753e1d88a188e = L.circleMarker(\n",
       "                [39.937820009204, 3.3870760000000004],\n",
       "                {&quot;bubblingMouseEvents&quot;: true, &quot;color&quot;: &quot;lightblue&quot;, &quot;dashArray&quot;: null, &quot;dashOffset&quot;: null, &quot;fill&quot;: true, &quot;fillColor&quot;: &quot;lightblue&quot;, &quot;fillOpacity&quot;: 0.7, &quot;fillRule&quot;: &quot;evenodd&quot;, &quot;lineCap&quot;: &quot;round&quot;, &quot;lineJoin&quot;: &quot;round&quot;, &quot;opacity&quot;: 1.0, &quot;radius&quot;: 3, &quot;stroke&quot;: true, &quot;weight&quot;: 3}\n",
       "            ).addTo(map_7b55135fe4505813513ccc23098ee891);\n",
       "        \n",
       "    \n",
       "            var circle_marker_0cd61abe4959c6adf5d9f1038eac00b7 = L.circleMarker(\n",
       "                [39.964275, 3.426313],\n",
       "                {&quot;bubblingMouseEvents&quot;: true, &quot;color&quot;: &quot;lightblue&quot;, &quot;dashArray&quot;: null, &quot;dashOffset&quot;: null, &quot;fill&quot;: true, &quot;fillColor&quot;: &quot;lightblue&quot;, &quot;fillOpacity&quot;: 0.7, &quot;fillRule&quot;: &quot;evenodd&quot;, &quot;lineCap&quot;: &quot;round&quot;, &quot;lineJoin&quot;: &quot;round&quot;, &quot;opacity&quot;: 1.0, &quot;radius&quot;: 3, &quot;stroke&quot;: true, &quot;weight&quot;: 3}\n",
       "            ).addTo(map_7b55135fe4505813513ccc23098ee891);\n",
       "        \n",
       "    \n",
       "            var circle_marker_000edbc53b9b266133bb17baca7d29ca = L.circleMarker(\n",
       "                [38.907596, 1.993112],\n",
       "                {&quot;bubblingMouseEvents&quot;: true, &quot;color&quot;: &quot;green&quot;, &quot;dashArray&quot;: null, &quot;dashOffset&quot;: null, &quot;fill&quot;: true, &quot;fillColor&quot;: &quot;green&quot;, &quot;fillOpacity&quot;: 0.2, &quot;fillRule&quot;: &quot;evenodd&quot;, &quot;lineCap&quot;: &quot;round&quot;, &quot;lineJoin&quot;: &quot;round&quot;, &quot;opacity&quot;: 1.0, &quot;radius&quot;: 6, &quot;stroke&quot;: true, &quot;weight&quot;: 3}\n",
       "            ).addTo(map_7b55135fe4505813513ccc23098ee891);\n",
       "        \n",
       "    \n",
       "            circle_marker_000edbc53b9b266133bb17baca7d29ca.bindTooltip(\n",
       "                `&lt;div&gt;\n",
       "                     Inicio\n",
       "                 &lt;/div&gt;`,\n",
       "                {\n",
       "  &quot;sticky&quot;: true,\n",
       "}\n",
       "            );\n",
       "        \n",
       "    \n",
       "            var circle_marker_a4ae1437e0c9be88aa8462a4921fa295 = L.circleMarker(\n",
       "                [39.964275, 3.426313],\n",
       "                {&quot;bubblingMouseEvents&quot;: true, &quot;color&quot;: &quot;red&quot;, &quot;dashArray&quot;: null, &quot;dashOffset&quot;: null, &quot;fill&quot;: true, &quot;fillColor&quot;: &quot;red&quot;, &quot;fillOpacity&quot;: 0.2, &quot;fillRule&quot;: &quot;evenodd&quot;, &quot;lineCap&quot;: &quot;round&quot;, &quot;lineJoin&quot;: &quot;round&quot;, &quot;opacity&quot;: 1.0, &quot;radius&quot;: 6, &quot;stroke&quot;: true, &quot;weight&quot;: 3}\n",
       "            ).addTo(map_7b55135fe4505813513ccc23098ee891);\n",
       "        \n",
       "    \n",
       "            circle_marker_a4ae1437e0c9be88aa8462a4921fa295.bindTooltip(\n",
       "                `&lt;div&gt;\n",
       "                     Destino\n",
       "                 &lt;/div&gt;`,\n",
       "                {\n",
       "  &quot;sticky&quot;: true,\n",
       "}\n",
       "            );\n",
       "        \n",
       "&lt;/script&gt;\n",
       "&lt;/html&gt;\" style=\"position:absolute;width:100%;height:100%;left:0;top:0;border:none !important;\" allowfullscreen webkitallowfullscreen mozallowfullscreen></iframe></div></div>"
      ],
      "text/plain": [
       "<folium.folium.Map at 0x2cfa1a26510>"
      ]
     },
     "execution_count": 16,
     "metadata": {},
     "output_type": "execute_result"
    }
   ],
   "source": [
    "# Cell – Visualizar la ruta sobre el grafo\n",
    "from pathfinding.plot_route import plot_route_on_graph\n",
    "\n",
    "# Asegúrate de usar las etiquetas de nodo correctas:\n",
    "# Si llamaste a augment_with_start_end con labels 'START' y 'END', usa:\n",
    "path = result['path']         # lista de nodos e.g. ['START', 2397,  ... , 'END']\n",
    "\n",
    "# Dibuja la ruta en el grafo aumentado\n",
    "m = plot_route_on_graph(G_aug, path, route_color='orange', node_color='lightblue')\n",
    "m\n"
   ]
  }
 ],
 "metadata": {
  "kernelspec": {
   "display_name": ".venv",
   "language": "python",
   "name": "python3"
  },
  "language_info": {
   "codemirror_mode": {
    "name": "ipython",
    "version": 3
   },
   "file_extension": ".py",
   "mimetype": "text/x-python",
   "name": "python",
   "nbconvert_exporter": "python",
   "pygments_lexer": "ipython3",
   "version": "3.11.9"
  }
 },
 "nbformat": 4,
 "nbformat_minor": 5
}
