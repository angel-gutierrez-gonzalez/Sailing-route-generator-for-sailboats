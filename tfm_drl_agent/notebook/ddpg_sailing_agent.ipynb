{
 "cells": [
  {
   "cell_type": "markdown",
   "id": "42e8739a",
   "metadata": {},
   "source": [
    "# Configuración e imports"
   ]
  },
  {
   "cell_type": "code",
   "execution_count": 10,
   "id": "64924462",
   "metadata": {},
   "outputs": [],
   "source": [
    "import sys\n",
    "import os"
   ]
  },
  {
   "cell_type": "code",
   "execution_count": 11,
   "id": "bccbdf3e",
   "metadata": {},
   "outputs": [],
   "source": [
    "# Obtener ruta absoluta del directorio que contiene el notebook\n",
    "notebook_dir = os.path.dirname(os.getcwd())  # sube un nivel desde /notebook\n",
    "if notebook_dir not in sys.path:\n",
    "    sys.path.append(notebook_dir)"
   ]
  },
  {
   "cell_type": "code",
   "execution_count": 12,
   "id": "39fa61f4",
   "metadata": {},
   "outputs": [],
   "source": [
    "import pandas as pd\n",
    "from environment.sailing_env import SailingEnv\n",
    "from environment.wind_model import WindField\n",
    "from environment.polar_diagram import PolarDiagram\n",
    "from agents.ddpg import DDPGAgent\n",
    "from training.train_drl import train_ddpg\n"
   ]
  },
  {
   "cell_type": "markdown",
   "id": "eccd1d8d",
   "metadata": {},
   "source": [
    "# Carga de datos"
   ]
  },
  {
   "cell_type": "code",
   "execution_count": null,
   "id": "d42a4ddb",
   "metadata": {},
   "outputs": [],
   "source": [
    "# Viento Open-Meteo\n",
    "df_wind = pd.read_csv(\"data/wind_forecast.csv\")\n",
    "\n",
    "# Diagrama polar\n",
    "polar = PolarDiagram(\"data/polar/conrad1200.csv\")\n",
    "\n",
    "# Modelo de viento\n",
    "wind = WindField(df_wind)"
   ]
  },
  {
   "cell_type": "markdown",
   "id": "9a9fbd79",
   "metadata": {},
   "source": [
    "# Inicialización del entorno"
   ]
  },
  {
   "cell_type": "code",
   "execution_count": null,
   "id": "8ee8408b",
   "metadata": {},
   "outputs": [],
   "source": [
    "env = SailingEnv({\n",
    "    'start': [43.0, 7.0],\n",
    "    'goal': [43.2, 7.5],\n",
    "    'goal_threshold': 0.01,\n",
    "    'dt': 10,\n",
    "    'max_steps': 200,\n",
    "    'polar_diagram': polar,\n",
    "    'wind': wind,\n",
    "    'continuous': True,\n",
    "    'grid': None\n",
    "})"
   ]
  },
  {
   "cell_type": "markdown",
   "id": "9ddd318f",
   "metadata": {},
   "source": [
    "# Creación del agente"
   ]
  },
  {
   "cell_type": "code",
   "execution_count": null,
   "id": "48f4c71f",
   "metadata": {},
   "outputs": [],
   "source": [
    "agent = DDPGAgent(env)"
   ]
  },
  {
   "cell_type": "markdown",
   "id": "ba094222",
   "metadata": {},
   "source": [
    "# Entrenamiento"
   ]
  },
  {
   "cell_type": "code",
   "execution_count": null,
   "id": "febbb1b8",
   "metadata": {},
   "outputs": [],
   "source": [
    "rewards = train_ddpg(agent, env, episodes=300)"
   ]
  },
  {
   "cell_type": "markdown",
   "id": "573d1eb2",
   "metadata": {},
   "source": [
    "# Visualización"
   ]
  },
  {
   "cell_type": "code",
   "execution_count": null,
   "id": "a5ad9a57",
   "metadata": {},
   "outputs": [],
   "source": [
    "import matplotlib.pyplot as plt\n",
    "\n",
    "plt.plot(rewards)\n",
    "plt.title(\"Recompensa por episodio\")\n",
    "plt.xlabel(\"Episodio\")\n",
    "plt.ylabel(\"Reward total\")\n",
    "plt.grid()\n",
    "plt.show()\n"
   ]
  },
  {
   "cell_type": "markdown",
   "id": "e357e26f",
   "metadata": {},
   "source": [
    "# (opcional) Evaluación"
   ]
  },
  {
   "cell_type": "code",
   "execution_count": null,
   "id": "446c75a9",
   "metadata": {},
   "outputs": [],
   "source": [
    "state = env.reset()\n",
    "total_reward = 0\n",
    "\n",
    "for _ in range(env.config['max_steps']):\n",
    "    tf_state = tf.convert_to_tensor([state], dtype=tf.float32)\n",
    "    action = agent.actor_model(tf_state)[0].numpy()\n",
    "    state, reward, done, _ = env.step(action)\n",
    "    total_reward += reward\n",
    "    env.render()\n",
    "    if done:\n",
    "        break\n",
    "\n",
    "print(f\"Recompensa total: {total_reward:.2f}\")"
   ]
  }
 ],
 "metadata": {
  "kernelspec": {
   "display_name": ".venv",
   "language": "python",
   "name": "python3"
  },
  "language_info": {
   "codemirror_mode": {
    "name": "ipython",
    "version": 3
   },
   "file_extension": ".py",
   "mimetype": "text/x-python",
   "name": "python",
   "nbconvert_exporter": "python",
   "pygments_lexer": "ipython3",
   "version": "3.11.9"
  }
 },
 "nbformat": 4,
 "nbformat_minor": 5
}
