{
 "cells": [
  {
   "cell_type": "markdown",
   "id": "42e8739a",
   "metadata": {},
   "source": [
    "# Configuración e imports"
   ]
  },
  {
   "cell_type": "code",
   "execution_count": 1,
   "id": "64924462",
   "metadata": {},
   "outputs": [],
   "source": [
    "import sys\n",
    "import os"
   ]
  },
  {
   "cell_type": "code",
   "execution_count": 2,
   "id": "bccbdf3e",
   "metadata": {},
   "outputs": [],
   "source": [
    "# Obtener ruta absoluta del directorio que contiene el notebook\n",
    "notebook_dir = os.path.dirname(os.getcwd())  # sube un nivel desde /notebook\n",
    "if notebook_dir not in sys.path:\n",
    "    sys.path.append(notebook_dir)"
   ]
  },
  {
   "cell_type": "code",
   "execution_count": 3,
   "id": "39fa61f4",
   "metadata": {},
   "outputs": [
    {
     "name": "stderr",
     "output_type": "stream",
     "text": [
      "2025-07-03 11:37:19.361873: I tensorflow/core/util/port.cc:153] oneDNN custom operations are on. You may see slightly different numerical results due to floating-point round-off errors from different computation orders. To turn them off, set the environment variable `TF_ENABLE_ONEDNN_OPTS=0`.\n",
      "2025-07-03 11:37:19.379129: E external/local_xla/xla/stream_executor/cuda/cuda_fft.cc:467] Unable to register cuFFT factory: Attempting to register factory for plugin cuFFT when one has already been registered\n",
      "WARNING: All log messages before absl::InitializeLog() is called are written to STDERR\n",
      "E0000 00:00:1751542639.399045 2021923 cuda_dnn.cc:8579] Unable to register cuDNN factory: Attempting to register factory for plugin cuDNN when one has already been registered\n",
      "E0000 00:00:1751542639.405057 2021923 cuda_blas.cc:1407] Unable to register cuBLAS factory: Attempting to register factory for plugin cuBLAS when one has already been registered\n",
      "W0000 00:00:1751542639.420388 2021923 computation_placer.cc:177] computation placer already registered. Please check linkage and avoid linking the same target more than once.\n",
      "W0000 00:00:1751542639.420405 2021923 computation_placer.cc:177] computation placer already registered. Please check linkage and avoid linking the same target more than once.\n",
      "W0000 00:00:1751542639.420407 2021923 computation_placer.cc:177] computation placer already registered. Please check linkage and avoid linking the same target more than once.\n",
      "W0000 00:00:1751542639.420409 2021923 computation_placer.cc:177] computation placer already registered. Please check linkage and avoid linking the same target more than once.\n",
      "2025-07-03 11:37:19.425535: I tensorflow/core/platform/cpu_feature_guard.cc:210] This TensorFlow binary is optimized to use available CPU instructions in performance-critical operations.\n",
      "To enable the following instructions: AVX2 AVX512F AVX512_VNNI FMA, in other operations, rebuild TensorFlow with the appropriate compiler flags.\n"
     ]
    }
   ],
   "source": [
    "from environment.wind_field import MultiDayWindField\n",
    "from environment.random_wind_wrapper import RandomizedWindWrapper\n",
    "from environment.random_start_goal_wrapper import RandomStartGoalWrapper\n",
    "from environment.sailing_env import SailingEnv\n",
    "from environment.polar_diagram import PolarDiagram\n",
    "from agents.ddpg import DDPGAgent\n",
    "from training.train_drl import train_ddpg"
   ]
  },
  {
   "cell_type": "code",
   "execution_count": 4,
   "id": "2e0add4d",
   "metadata": {},
   "outputs": [
    {
     "name": "stdout",
     "output_type": "stream",
     "text": [
      "Versión de TensorFlow: 2.19.0\n"
     ]
    }
   ],
   "source": [
    "import tensorflow as tf\n",
    "print(\"Versión de TensorFlow:\", tf.__version__)"
   ]
  },
  {
   "cell_type": "code",
   "execution_count": 5,
   "id": "bf0a4654",
   "metadata": {},
   "outputs": [
    {
     "name": "stdout",
     "output_type": "stream",
     "text": [
      "✅ GPU detectada: /physical_device:GPU:0\n"
     ]
    }
   ],
   "source": [
    "import tensorflow as tf\n",
    "\n",
    "gpus = tf.config.list_physical_devices('GPU')\n",
    "if gpus:\n",
    "    print(f\"✅ GPU detectada: {gpus[0].name}\")\n",
    "else:\n",
    "    print(\"⚠️ No se ha detectado GPU. El entrenamiento usará CPU.\")"
   ]
  },
  {
   "cell_type": "markdown",
   "id": "30c102fd",
   "metadata": {},
   "source": [
    "# Entrenamiento modelo"
   ]
  },
  {
   "cell_type": "markdown",
   "id": "eccd1d8d",
   "metadata": {},
   "source": [
    "## Carga de datos"
   ]
  },
  {
   "cell_type": "code",
   "execution_count": 6,
   "id": "d42a4ddb",
   "metadata": {},
   "outputs": [],
   "source": [
    "# Diagrama polar\n",
    "polar = PolarDiagram('../../data/polar_diagram.csv')\n",
    "\n",
    "# Carpeta de rutas CSV del profesor\n",
    "folder_path = \"../../data/expert_trajectories\""
   ]
  },
  {
   "cell_type": "code",
   "execution_count": 7,
   "id": "dd4c793b",
   "metadata": {},
   "outputs": [],
   "source": [
    "# Definir rutas por fecha (ajusta con tus archivos)\n",
    "csv_paths = {\n",
    "    \"2025-05-04\": \"../../data/processed/nodes_bathy_wind20250504.csv\",\n",
    "    \"2025-05-04\": \"../../data/processed/nodes_bathy_wind20250507.csv\",\n",
    "    \"2025-05-09\": \"../../data/processed/nodes_bathy_wind20250509.csv\",\n",
    "    \"2025-05-11\": \"../../data/processed/nodes_bathy_wind20250511.csv\",\n",
    "    \"2025-05-13\": \"../../data/processed/nodes_bathy_wind20250513.csv\",\n",
    "    \"2025-05-15\": \"../../data/processed/nodes_bathy_wind20250515.csv\",\n",
    "    \"2025-05-17\": \"../../data/processed/nodes_bathy_wind20250517.csv\",\n",
    "    \"2025-05-19\": \"../../data/processed/nodes_bathy_wind20250519.csv\",\n",
    "    \"2025-05-23\": \"../../data/processed/nodes_bathy_wind20250523.csv\",\n",
    "    \"2025-05-25\": \"../../data/processed/nodes_bathy_wind20250525.csv\",\n",
    "    \"2025-05-27\": \"../../data/processed/nodes_bathy_wind20250527.csv\",\n",
    "    \"2025-05-28\": \"../../data/processed/nodes_bathy_wind20250528.csv\",\n",
    "    \"2025-05-30\": \"../../data/processed/nodes_bathy_wind20250530.csv\",\n",
    "    \"2025-06-01\": \"../../data/processed/nodes_bathy_wind20250601.csv\"\n",
    "}\n",
    "\n",
    "# Crear campo de viento multi-día\n",
    "wind_field = MultiDayWindField(csv_paths)"
   ]
  },
  {
   "cell_type": "markdown",
   "id": "9a9fbd79",
   "metadata": {},
   "source": [
    "## Inicialización del entorno"
   ]
  },
  {
   "cell_type": "markdown",
   "id": "25e11ebc",
   "metadata": {},
   "source": [
    "- El barco empieza y termina dentro del área navegable.\n",
    "- El episodio dura como máximo 24 horas.\n",
    "- Las consultas de viento están cubiertas por tu CSV de Open-Meteo."
   ]
  },
  {
   "cell_type": "code",
   "execution_count": 8,
   "id": "8ee8408b",
   "metadata": {},
   "outputs": [],
   "source": [
    "# Configuración de entorno simulado\n",
    "config_base = {\n",
    "    \"dt\": 10,\n",
    "    \"max_steps\": 135, # rutas de no más de 24 h\n",
    "    \"polar_diagram\": polar,\n",
    "    \"debug\": True\n",
    "}"
   ]
  },
  {
   "cell_type": "code",
   "execution_count": 9,
   "id": "74685c99",
   "metadata": {},
   "outputs": [
    {
     "name": "stdout",
     "output_type": "stream",
     "text": [
      "[RUTA] Día: 2025-05-17 | Inicio: [np.float64(40.10318009019184), np.float64(0.657076)] | Destino: [np.float64(39.77205622915002), np.float64(2.5050760000000003)] | Distancia: 161.80 km\n"
     ]
    },
    {
     "name": "stderr",
     "output_type": "stream",
     "text": [
      "/home/agutierrez/Sailing-route-generator-for-sailboats/.venv/lib/python3.11/site-packages/gym/spaces/box.py:127: UserWarning: \u001b[33mWARN: Box bound precision lowered by casting to float32\u001b[0m\n",
      "  logger.warn(f\"Box bound precision lowered by casting to {self.dtype}\")\n"
     ]
    }
   ],
   "source": [
    "# Crear entorno con viento que cambia por episodio\n",
    "env = RandomStartGoalWrapper(SailingEnv, config_base, wind_field)"
   ]
  },
  {
   "cell_type": "markdown",
   "id": "9ddd318f",
   "metadata": {},
   "source": [
    "## Creación del agente"
   ]
  },
  {
   "cell_type": "code",
   "execution_count": 10,
   "id": "48f4c71f",
   "metadata": {},
   "outputs": [
    {
     "name": "stderr",
     "output_type": "stream",
     "text": [
      "I0000 00:00:1751335102.615123 1784309 gpu_device.cc:2019] Created device /job:localhost/replica:0/task:0/device:GPU:0 with 46745 MB memory:  -> device: 0, name: NVIDIA RTX A6000, pci bus id: 0000:5b:00.0, compute capability: 8.6\n"
     ]
    }
   ],
   "source": [
    "agent = DDPGAgent(env)"
   ]
  },
  {
   "cell_type": "markdown",
   "id": "6b594a05",
   "metadata": {},
   "source": [
    "## Entrenamiento"
   ]
  },
  {
   "cell_type": "markdown",
   "id": "3b1af2bc",
   "metadata": {},
   "source": [
    "### Entrenamiento con aprendizaje por imitación"
   ]
  },
  {
   "cell_type": "code",
   "execution_count": null,
   "id": "10a1a081",
   "metadata": {},
   "outputs": [],
   "source": [
    "from agents.ddpg import get_actor\n",
    "from training.imitation_learning import train_actor_supervised\n",
    "\n",
    "# Crear actor sin entrenar\n",
    "actor_model = get_actor(input_shape=6, action_bounds=[360, 20])\n",
    "\n",
    "# Entrenar actor con todas las rutas disponibles\n",
    "trained_actor = train_actor_supervised(actor_model, folder_path, epochs=10)"
   ]
  },
  {
   "cell_type": "markdown",
   "id": "ba094222",
   "metadata": {},
   "source": [
    "### Entrenamiento por refuerzo (Entorno simulado)"
   ]
  },
  {
   "cell_type": "code",
   "execution_count": null,
   "id": "febbb1b8",
   "metadata": {},
   "outputs": [],
   "source": [
    "rewards = train_ddpg(agent, env, episodes=10)"
   ]
  },
  {
   "cell_type": "markdown",
   "id": "3827f44b",
   "metadata": {},
   "source": [
    "# Validación modelo"
   ]
  },
  {
   "cell_type": "markdown",
   "id": "1a4d29b6",
   "metadata": {},
   "source": [
    "## Imports"
   ]
  },
  {
   "cell_type": "code",
   "execution_count": 6,
   "id": "46dce023",
   "metadata": {},
   "outputs": [],
   "source": [
    "import numpy as np\n",
    "import pandas as pd\n",
    "import matplotlib.pyplot as plt\n",
    "import json\n",
    "from tensorflow.keras.models import load_model\n",
    "\n",
    "from environment.sailing_env import SailingEnv\n",
    "from environment.wind_field import MultiDayWindField\n",
    "from environment.polar_diagram import PolarDiagram\n",
    "\n",
    "import os\n",
    "from environment.sailing_env import SailingEnv\n",
    "from environment.wind_field import SingleDayWind\n",
    "from agents.ddpg import DDPGAgent\n",
    "from utils.utils import haversine, select_random_start_goal"
   ]
  },
  {
   "cell_type": "markdown",
   "id": "9652857f",
   "metadata": {},
   "source": [
    "## Parametros"
   ]
  },
  {
   "cell_type": "code",
   "execution_count": 7,
   "id": "555c1a6e",
   "metadata": {},
   "outputs": [],
   "source": [
    "# --- Configuración de paths ---\n",
    "model_path = \"models/ddpg_latest/actor_final_ep700.h5\"\n",
    "# route_master_path = \"data/20250504_route_00.csv\"\n",
    "date_str = '20250504'\n",
    "\n",
    "csv_path = \"../../data/processed/nodes_bathy_wind20250504.csv\" #selecionamos un fichero de malla\n",
    "polar_path = \"../../data/polar_diagram.csv\"\n",
    "graph_path = \"../../data/graphs/graph_20250504.gpickle\"\n",
    "\n",
    "out_dir_drl = 'data/routes_drl'\n",
    "os.makedirs(out_dir_drl, exist_ok=True)\n",
    "\n",
    "out_dir_deter = 'data/expert_routes'\n",
    "os.makedirs(out_dir_deter, exist_ok=True)"
   ]
  },
  {
   "cell_type": "code",
   "execution_count": 8,
   "id": "663c26b2",
   "metadata": {},
   "outputs": [
    {
     "name": "stderr",
     "output_type": "stream",
     "text": [
      "I0000 00:00:1751542642.787328 2021923 gpu_device.cc:2019] Created device /job:localhost/replica:0/task:0/device:GPU:0 with 46745 MB memory:  -> device: 0, name: NVIDIA RTX A6000, pci bus id: 0000:5b:00.0, compute capability: 8.6\n",
      "WARNING:absl:No training configuration found in the save file, so the model was *not* compiled. Compile it manually.\n"
     ]
    }
   ],
   "source": [
    "# Cargar modelo y datos\n",
    "actor = load_model(model_path)\n",
    "df = pd.read_csv(csv_path)\n",
    "from environment.polar_diagram import PolarDiagram\n",
    "polar = PolarDiagram(polar_path)\n",
    "wind = SingleDayWind(df)\n"
   ]
  },
  {
   "cell_type": "code",
   "execution_count": 9,
   "id": "6a29cca1",
   "metadata": {},
   "outputs": [
    {
     "name": "stdout",
     "output_type": "stream",
     "text": [
      "[RUTA 1] Start: [np.float64(40.54216383117133), np.float64(4.101076)] | Goal: [np.float64(39.77205622915002), np.float64(4.017076)] | Distancia: 85.93 km\n",
      "[RUTA 2] Start: [np.float64(38.54415952873096), np.float64(3.3030760000000003)] | Goal: [np.float64(40.15821034039509), np.float64(2.7570760000000005)] | Distancia: 185.51 km\n",
      "[RUTA 3] Start: [np.float64(40.10318009019184), np.float64(5.067076)] | Goal: [np.float64(39.49488722825432), np.float64(3.4710760000000005)] | Distancia: 152.20 km\n",
      "[RUTA 4] Start: [np.float64(39.10497220437557), np.float64(5.067076)] | Goal: [np.float64(40.21319567926543), np.float64(4.479076)] | Distancia: 133.11 km\n",
      "[RUTA 5] Start: [np.float64(39.49488722825432), np.float64(1.581076)] | Goal: [np.float64(40.377882093815096), np.float64(3.2190760000000003)] | Distancia: 170.71 km\n",
      "[RUTA 6] Start: [np.float64(39.550410561341046), np.float64(1.203076)] | Goal: [np.float64(38.82512252795502), np.float64(0.825076)] | Distancia: 86.98 km\n",
      "[RUTA 7] Start: [np.float64(38.54415952873096), np.float64(-0.0569239999999999)] | Goal: [np.float64(38.31858908048507), np.float64(1.707076)] | Distancia: 155.68 km\n"
     ]
    }
   ],
   "source": [
    "from utils.utils import haversine\n",
    "\n",
    "rutas = []\n",
    "for i in range(7):\n",
    "    start, goal = select_random_start_goal(df)\n",
    "    rutas.append((start, goal))\n",
    "    \n",
    "    dist_km = haversine(start[1], start[0], goal[1], goal[0])  # en km\n",
    "    print(f\"[RUTA {i+1}] Start: {start} | Goal: {goal} | Distancia: {dist_km:.2f} km\")\n"
   ]
  },
  {
   "cell_type": "markdown",
   "id": "95455a1a",
   "metadata": {},
   "source": [
    "## Ruta de modelo DRL"
   ]
  },
  {
   "cell_type": "code",
   "execution_count": 10,
   "id": "2a784ab1",
   "metadata": {},
   "outputs": [],
   "source": [
    "# Función para guardar una ruta como CSV\n",
    "def save_route_to_csv(data, route_id):\n",
    "    df_out = pd.DataFrame(data)\n",
    "    df_out.to_csv(f\"{out_dir_drl}/route_drl_{route_id:02d}.csv\", index=False)"
   ]
  },
  {
   "cell_type": "code",
   "execution_count": null,
   "id": "7c5d34ce",
   "metadata": {},
   "outputs": [
    {
     "name": "stdout",
     "output_type": "stream",
     "text": [
      "[RUTA 0] Start: [np.float64(40.54216383117133), np.float64(4.101076)], Goal: [np.float64(39.77205622915002), np.float64(4.017076)], Distancia: 85.93 km\n"
     ]
    },
    {
     "name": "stderr",
     "output_type": "stream",
     "text": [
      "/home/agutierrez/Sailing-route-generator-for-sailboats/.venv/lib/python3.11/site-packages/gym/spaces/box.py:127: UserWarning: \u001b[33mWARN: Box bound precision lowered by casting to float32\u001b[0m\n",
      "  logger.warn(f\"Box bound precision lowered by casting to {self.dtype}\")\n",
      "WARNING: All log messages before absl::InitializeLog() is called are written to STDERR\n",
      "I0000 00:00:1751542647.032002 2022027 service.cc:152] XLA service 0x7f8e70003e60 initialized for platform CUDA (this does not guarantee that XLA will be used). Devices:\n",
      "I0000 00:00:1751542647.032039 2022027 service.cc:160]   StreamExecutor device (0): NVIDIA RTX A6000, Compute Capability 8.6\n",
      "2025-07-03 11:37:27.045487: I tensorflow/compiler/mlir/tensorflow/utils/dump_mlir_util.cc:269] disabling MLIR crash reproducer, set env var `MLIR_CRASH_REPRODUCER_DIRECTORY` to enable.\n",
      "I0000 00:00:1751542647.071846 2022027 cuda_dnn.cc:529] Loaded cuDNN version 90501\n",
      "I0000 00:00:1751542647.258501 2022027 device_compiler.h:188] Compiled cluster using XLA!  This line is logged at most once for the lifetime of the process.\n"
     ]
    },
    {
     "name": "stdout",
     "output_type": "stream",
     "text": [
      "[RUTA 1] Start: [np.float64(38.54415952873096), np.float64(3.3030760000000003)], Goal: [np.float64(40.15821034039509), np.float64(2.7570760000000005)], Distancia: 185.51 km\n"
     ]
    },
    {
     "name": "stderr",
     "output_type": "stream",
     "text": [
      "/home/agutierrez/Sailing-route-generator-for-sailboats/.venv/lib/python3.11/site-packages/gym/spaces/box.py:127: UserWarning: \u001b[33mWARN: Box bound precision lowered by casting to float32\u001b[0m\n",
      "  logger.warn(f\"Box bound precision lowered by casting to {self.dtype}\")\n"
     ]
    },
    {
     "name": "stdout",
     "output_type": "stream",
     "text": [
      "[RUTA 2] Start: [np.float64(40.10318009019184), np.float64(5.067076)], Goal: [np.float64(39.49488722825432), np.float64(3.4710760000000005)], Distancia: 152.20 km\n"
     ]
    },
    {
     "name": "stderr",
     "output_type": "stream",
     "text": [
      "/home/agutierrez/Sailing-route-generator-for-sailboats/.venv/lib/python3.11/site-packages/gym/spaces/box.py:127: UserWarning: \u001b[33mWARN: Box bound precision lowered by casting to float32\u001b[0m\n",
      "  logger.warn(f\"Box bound precision lowered by casting to {self.dtype}\")\n"
     ]
    },
    {
     "name": "stdout",
     "output_type": "stream",
     "text": [
      "[RUTA 3] Start: [np.float64(39.10497220437557), np.float64(5.067076)], Goal: [np.float64(40.21319567926543), np.float64(4.479076)], Distancia: 133.11 km\n"
     ]
    },
    {
     "name": "stderr",
     "output_type": "stream",
     "text": [
      "/home/agutierrez/Sailing-route-generator-for-sailboats/.venv/lib/python3.11/site-packages/gym/spaces/box.py:127: UserWarning: \u001b[33mWARN: Box bound precision lowered by casting to float32\u001b[0m\n",
      "  logger.warn(f\"Box bound precision lowered by casting to {self.dtype}\")\n"
     ]
    },
    {
     "name": "stdout",
     "output_type": "stream",
     "text": [
      "[RUTA 4] Start: [np.float64(39.49488722825432), np.float64(1.581076)], Goal: [np.float64(40.377882093815096), np.float64(3.2190760000000003)], Distancia: 170.71 km\n"
     ]
    },
    {
     "name": "stderr",
     "output_type": "stream",
     "text": [
      "/home/agutierrez/Sailing-route-generator-for-sailboats/.venv/lib/python3.11/site-packages/gym/spaces/box.py:127: UserWarning: \u001b[33mWARN: Box bound precision lowered by casting to float32\u001b[0m\n",
      "  logger.warn(f\"Box bound precision lowered by casting to {self.dtype}\")\n"
     ]
    },
    {
     "name": "stdout",
     "output_type": "stream",
     "text": [
      "[RUTA 5] Start: [np.float64(39.550410561341046), np.float64(1.203076)], Goal: [np.float64(38.82512252795502), np.float64(0.825076)], Distancia: 86.98 km\n"
     ]
    },
    {
     "name": "stderr",
     "output_type": "stream",
     "text": [
      "/home/agutierrez/Sailing-route-generator-for-sailboats/.venv/lib/python3.11/site-packages/gym/spaces/box.py:127: UserWarning: \u001b[33mWARN: Box bound precision lowered by casting to float32\u001b[0m\n",
      "  logger.warn(f\"Box bound precision lowered by casting to {self.dtype}\")\n"
     ]
    },
    {
     "name": "stdout",
     "output_type": "stream",
     "text": [
      "[RUTA 6] Start: [np.float64(38.54415952873096), np.float64(-0.0569239999999999)], Goal: [np.float64(38.31858908048507), np.float64(1.707076)], Distancia: 155.68 km\n"
     ]
    },
    {
     "name": "stderr",
     "output_type": "stream",
     "text": [
      "/home/agutierrez/Sailing-route-generator-for-sailboats/.venv/lib/python3.11/site-packages/gym/spaces/box.py:127: UserWarning: \u001b[33mWARN: Box bound precision lowered by casting to float32\u001b[0m\n",
      "  logger.warn(f\"Box bound precision lowered by casting to {self.dtype}\")\n"
     ]
    },
    {
     "ename": "",
     "evalue": "",
     "output_type": "error",
     "traceback": [
      "\u001b[1;31mThe Kernel crashed while executing code in the current cell or a previous cell. \n",
      "\u001b[1;31mPlease review the code in the cell(s) to identify a possible cause of the failure. \n",
      "\u001b[1;31mClick <a href='https://aka.ms/vscodeJupyterKernelCrash'>here</a> for more info. \n",
      "\u001b[1;31mView Jupyter <a href='command:jupyter.viewOutput'>log</a> for further details."
     ]
    }
   ],
   "source": [
    "from environment.reward import estimate_heel\n",
    "\n",
    "for idx, (start, goal) in enumerate(rutas):\n",
    "    print(f\"[RUTA {idx}] Start: {start}, Goal: {goal}, Distancia: {haversine(start[1], start[0], goal[1], goal[0]):.2f} km\")\n",
    "    \n",
    "    config = {\n",
    "        \"start\": start,\n",
    "        \"goal\": goal,\n",
    "        \"dt\": 10,\n",
    "        \"max_steps\": 135,\n",
    "        \"polar_diagram\": polar,\n",
    "        \"wind\": wind,\n",
    "        \"debug\": False\n",
    "    }\n",
    "\n",
    "    env = SailingEnv(config)\n",
    "    agent = DDPGAgent(env)\n",
    "    agent.actor_model = actor\n",
    "\n",
    "    obs = env.reset()\n",
    "    done = False\n",
    "    route_data = []\n",
    "    step = 0\n",
    "\n",
    "    while not done and step < config[\"max_steps\"]:\n",
    "        action = agent.actor_model.predict(obs.reshape(1, -1), verbose=0)[0]\n",
    "        obs, reward, done, _ = env.step(action)\n",
    "\n",
    "        # Calcular tiempo actual a partir del paso\n",
    "        current_time = pd.to_datetime(env.wind_field.min_time) + pd.Timedelta(minutes=env.step_count * env.dt)\n",
    "\n",
    "        # Recuperar condiciones de viento en este paso\n",
    "        wind_dir, wind_speed = env.wind_field.get(env.position[0], env.position[1], current_time)\n",
    "        relative_angle = (wind_dir - env.heading) % 360\n",
    "        heel = estimate_heel(relative_angle, env.speed)\n",
    "\n",
    "        route_data.append({\n",
    "            \"step\": step,\n",
    "            \"lat\": env.position[0],\n",
    "            \"lon\": env.position[1],\n",
    "            \"heading\": env.heading,\n",
    "            \"speed\": env.speed,\n",
    "            \"wind_dir\": wind_dir,\n",
    "            \"wind_speed\": wind_speed,\n",
    "            \"heel\": heel,\n",
    "            \"reward\": reward\n",
    "        })\n",
    "\n",
    "        step += 1\n",
    "\n",
    "    save_route_to_csv(route_data, idx)\n"
   ]
  },
  {
   "cell_type": "code",
   "execution_count": 26,
   "id": "7e91ca51",
   "metadata": {},
   "outputs": [
    {
     "name": "stdout",
     "output_type": "stream",
     "text": [
      "[RUTA 0] Start: [np.float64(39.27234670095148), np.float64(3.6390760000000006)], Goal: [np.float64(39.21659985092966), np.float64(3.2190760000000003)], Distancia: 36.70 km\n"
     ]
    },
    {
     "name": "stderr",
     "output_type": "stream",
     "text": [
      "/home/agutierrez/Sailing-route-generator-for-sailboats/.venv/lib/python3.11/site-packages/gym/spaces/box.py:127: UserWarning: \u001b[33mWARN: Box bound precision lowered by casting to float32\u001b[0m\n",
      "  logger.warn(f\"Box bound precision lowered by casting to {self.dtype}\")\n",
      "WARNING: All log messages before absl::InitializeLog() is called are written to STDERR\n",
      "I0000 00:00:1751448743.707683 1919510 service.cc:152] XLA service 0x7fe900006180 initialized for platform CUDA (this does not guarantee that XLA will be used). Devices:\n",
      "I0000 00:00:1751448743.707705 1919510 service.cc:160]   StreamExecutor device (0): NVIDIA RTX A6000, Compute Capability 8.6\n",
      "2025-07-02 09:32:23.713790: I tensorflow/compiler/mlir/tensorflow/utils/dump_mlir_util.cc:269] disabling MLIR crash reproducer, set env var `MLIR_CRASH_REPRODUCER_DIRECTORY` to enable.\n",
      "I0000 00:00:1751448743.742619 1919510 cuda_dnn.cc:529] Loaded cuDNN version 90501\n",
      "I0000 00:00:1751448743.928080 1919510 device_compiler.h:188] Compiled cluster using XLA!  This line is logged at most once for the lifetime of the process.\n"
     ]
    },
    {
     "name": "stdout",
     "output_type": "stream",
     "text": [
      "[RUTA 1] Start: [np.float64(39.99298491065609), np.float64(3.051076000000001)], Goal: [np.float64(40.432687654175496), np.float64(1.077076)], Distancia: 174.60 km\n",
      "[RUTA 2] Start: [np.float64(39.82735565397359), np.float64(3.5130760000000003)], Goal: [np.float64(40.32303156920454), np.float64(4.731076)], Distancia: 117.38 km\n",
      "[RUTA 3] Start: [np.float64(38.60044108555083), np.float64(1.749076)], Goal: [np.float64(40.15821034039509), np.float64(3.5970760000000004)], Distancia: 235.00 km\n",
      "[RUTA 4] Start: [np.float64(39.82735565397359), np.float64(0.195076)], Goal: [np.float64(39.937820009204), np.float64(1.287076)], Distancia: 93.98 km\n",
      "[RUTA 5] Start: [np.float64(38.76901892192847), np.float64(4.731076)], Goal: [np.float64(39.49488722825432), np.float64(3.3450760000000006)], Distancia: 144.24 km\n",
      "[RUTA 6] Start: [np.float64(39.4393191597462), np.float64(3.3450760000000006)], Goal: [np.float64(39.27234670095148), np.float64(1.749076)], Distancia: 138.47 km\n"
     ]
    }
   ],
   "source": [
    "for idx, (start, goal) in enumerate(rutas):\n",
    "    print(f\"[RUTA {idx}] Start: {start}, Goal: {goal}, Distancia: {haversine(start[1], start[0], goal[1], goal[0]):.2f} km\")\n",
    "    \n",
    "    config = {\n",
    "        \"start\": start,\n",
    "        \"goal\": goal,\n",
    "        \"dt\": 10,\n",
    "        \"max_steps\": 135,\n",
    "        \"polar_diagram\": polar,\n",
    "        \"wind\": wind,\n",
    "        \"debug\": False\n",
    "    }\n",
    "\n",
    "    env = SailingEnv(config)\n",
    "    agent = DDPGAgent(env)\n",
    "    agent.actor_model = actor\n",
    "\n",
    "    obs = env.reset()\n",
    "    done = False\n",
    "    route_data = []\n",
    "    step = 0\n",
    "\n",
    "    while not done and step < config[\"max_steps\"]:\n",
    "        action = agent.actor_model.predict(obs.reshape(1, -1), verbose=0)[0]\n",
    "        obs, reward, done, _ = env.step(action)\n",
    "        route_data.append({\n",
    "            \"step\": step,\n",
    "            \"lat\": env.position[0],\n",
    "            \"lon\": env.position[1],\n",
    "            \"heading\": env.heading,\n",
    "            \"speed\": env.speed,\n",
    "            \"reward\": reward\n",
    "        })\n",
    "        step += 1\n",
    "\n",
    "    save_route_to_csv(route_data, idx)"
   ]
  },
  {
   "cell_type": "markdown",
   "id": "21f83293",
   "metadata": {},
   "source": [
    "## Imports"
   ]
  },
  {
   "cell_type": "code",
   "execution_count": 20,
   "id": "d383f39d",
   "metadata": {},
   "outputs": [],
   "source": [
    "import os\n",
    "import glob\n",
    "import random\n",
    "from datetime import datetime\n",
    "\n",
    "import pandas as pd\n",
    "import networkx as nx\n",
    "from scipy.spatial import cKDTree\n",
    "\n",
    "project_root = os.path.abspath(os.path.join(os.getcwd(), '../..'))\n",
    "sys.path.insert(0, project_root)\n",
    "\n",
    "from tfm_deterministic_agent.pathfinding.search import shortest_path_with_turn_penalty\n",
    "from tfm_deterministic_agent.generate_area.build_graph import PolarDiagram"
   ]
  },
  {
   "cell_type": "markdown",
   "id": "c87b08f7",
   "metadata": {},
   "source": [
    "## Parametros"
   ]
  },
  {
   "cell_type": "code",
   "execution_count": 21,
   "id": "2a78731a",
   "metadata": {},
   "outputs": [
    {
     "name": "stdout",
     "output_type": "stream",
     "text": [
      "Nodos en G: 5910, Aristas: 133514\n"
     ]
    }
   ],
   "source": [
    "beta_turn = 0.1\n",
    "\n",
    "# 1) Carga de la lista de nodos (si la necesitas como DataFrame)\n",
    "nodes_df = pd.read_csv(csv_path)\n",
    "\n",
    "G = nx.read_gpickle(graph_path)\n",
    "print(f\"Nodos en G: {G.number_of_nodes()}, Aristas: {G.number_of_edges()}\")"
   ]
  },
  {
   "cell_type": "markdown",
   "id": "75d47823",
   "metadata": {},
   "source": [
    "## Ruta de modelo determinista"
   ]
  },
  {
   "cell_type": "code",
   "execution_count": 22,
   "id": "51aa0ec7",
   "metadata": {},
   "outputs": [],
   "source": [
    "# Construir KDTree sobre los nodos del grafo\n",
    "node_ids = list(G.nodes())\n",
    "coords   = [(G.nodes[n]['latitude'], G.nodes[n]['longitude']) for n in node_ids]\n",
    "tree     = cKDTree(coords)"
   ]
  },
  {
   "cell_type": "code",
   "execution_count": 23,
   "id": "4730decf",
   "metadata": {},
   "outputs": [
    {
     "name": "stdout",
     "output_type": "stream",
     "text": [
      "  → Ruta 00 guardada en data/expert_routes/route_det_00.csv\n",
      "  → Ruta 01 guardada en data/expert_routes/route_det_01.csv\n",
      "  → Ruta 02 guardada en data/expert_routes/route_det_02.csv\n",
      "  → Ruta 03 guardada en data/expert_routes/route_det_03.csv\n",
      "  → Ruta 04 guardada en data/expert_routes/route_det_04.csv\n",
      "  → Ruta 05 guardada en data/expert_routes/route_det_05.csv\n",
      "  → Ruta 06 guardada en data/expert_routes/route_det_06.csv\n"
     ]
    }
   ],
   "source": [
    "# Instancia tu diagrama polar una vez\n",
    "polar = PolarDiagram(polar_path)\n",
    "\n",
    "for idx, (start, goal) in enumerate(rutas):\n",
    "    # 1) Mapear inicio y fin a los node_id más cercanos\n",
    "    _, i_start = tree.query([start[0], start[1]])\n",
    "    _, i_goal  = tree.query([goal[0],  goal[1]])\n",
    "    src = node_ids[i_start]\n",
    "    tgt = node_ids[i_goal]\n",
    "\n",
    "    # 2) Calcular ruta óptima con penalización de virada\n",
    "    result = shortest_path_with_turn_penalty(G, src, tgt, beta_turn=beta_turn)\n",
    "    path   = result['path']\n",
    "\n",
    "    # 3) Construir la trayectoria tramo a tramo\n",
    "    traj = []\n",
    "    prev_hd = None\n",
    "    for step, (u, v) in enumerate(zip(path[:-1], path[1:])):\n",
    "        n    = G.nodes[u]\n",
    "        hd_uv  = G[u][v]['heading']\n",
    "        wind_dir = n['wind_dir']\n",
    "        wind_spd = n['wind_speed']\n",
    "        twa = abs(((hd_uv - wind_dir) + 180) % 360 - 180)\n",
    "        spd_uv = polar.get_speed(twa, wind_spd)\n",
    "        hd_act = prev_hd if prev_hd is not None else hd_uv\n",
    "\n",
    "        traj.append({\n",
    "            'date':           date_str,\n",
    "            'route_id':       f\"{date_str}_{idx:02d}\",\n",
    "            'step':           step,\n",
    "            'latitude':       n['latitude'],\n",
    "            'longitude':      n['longitude'],\n",
    "            'heading':        hd_act,\n",
    "            'speed':          spd_uv,\n",
    "            'wind_dir':       wind_dir,\n",
    "            'wind_speed':     wind_spd,\n",
    "            'target_heading': hd_uv,\n",
    "            'target_speed':   spd_uv\n",
    "        })\n",
    "        prev_hd = hd_uv\n",
    "\n",
    "    # 4) Guardar CSV\n",
    "    out_path = os.path.join(out_dir_deter, f\"route_det_{idx:02d}.csv\")\n",
    "    pd.DataFrame(traj).to_csv(out_path, index=False)\n",
    "    print(f\"  → Ruta {idx:02d} guardada en {out_path}\")"
   ]
  },
  {
   "cell_type": "markdown",
   "id": "e302b54e",
   "metadata": {},
   "source": [
    "## Métricas y visualización"
   ]
  },
  {
   "cell_type": "code",
   "execution_count": 6,
   "id": "820c1b37",
   "metadata": {},
   "outputs": [],
   "source": [
    "import os\n",
    "from training.evaluate import comparar_rutas_detallado, mostrar_rutas_en_mapa_folium, calcular_tiempo_aproximado"
   ]
  },
  {
   "cell_type": "code",
   "execution_count": 7,
   "id": "5859c2fd",
   "metadata": {},
   "outputs": [],
   "source": [
    "# Carpetas donde están guardadas las rutas\n",
    "carpeta_drl = \"data/routes_drl\"\n",
    "carpeta_det = \"data/expert_routes\"\n",
    "\n",
    "# Número de ruta a analizar (de 0 a 6)\n",
    "ruta_id = 1  # cambia este número según la ruta que quieras\n",
    "\n",
    "\n",
    "drl_path = os.path.join(carpeta_drl, f\"route_drl_{ruta_id:02d}.csv\")\n",
    "det_path = os.path.join(carpeta_det, f\"route_det_{ruta_id:02d}.csv\")\n"
   ]
  },
  {
   "cell_type": "code",
   "execution_count": 8,
   "id": "4ab516f1",
   "metadata": {},
   "outputs": [
    {
     "name": "stdout",
     "output_type": "stream",
     "text": [
      "\n",
      "Comparando ruta 01...\n",
      "\n",
      "Resultados DRL:\n",
      "  - distancia_km: 44.1314668698329\n",
      "  - duracion_steps: 135\n",
      "  - heel_max: 0.0219900312647223\n",
      "  - heel_max_duracion: 134\n",
      "  - heel_min: 0.0219900312647223\n",
      "  - heel_min_duracion: 134\n",
      "  - heel_prom: 0.0219900312647223\n",
      "  - viradas: 0\n",
      "\n",
      "Resultados DET:\n",
      "  - distancia_km: 137.84950765071233\n",
      "  - duracion_steps: 14\n",
      "  - heel_max: 2.6299628838958653\n",
      "  - heel_max_duracion: 1\n",
      "  - heel_min: 1.4696177333397964\n",
      "  - heel_min_duracion: 2\n",
      "  - heel_prom: 2.059945638598972\n",
      "  - viradas: 1\n"
     ]
    }
   ],
   "source": [
    "if os.path.exists(drl_path) and os.path.exists(det_path):\n",
    "    print(f\"\\nComparando ruta {ruta_id:02d}...\\n\")\n",
    "    resumen = comparar_rutas_detallado(drl_path, det_path)\n",
    "\n",
    "    print(\"Resultados DRL:\")\n",
    "    for k, v in resumen[\"drl\"].items():\n",
    "        print(f\"  - {k}: {v}\")\n",
    "\n",
    "    print(\"\\nResultados DET:\")\n",
    "    for k, v in resumen[\"det\"].items():\n",
    "        print(f\"  - {k}: {v}\")\n",
    "else:\n",
    "    print(f\"Archivos de ruta {ruta_id:02d} no encontrados.\")\n"
   ]
  },
  {
   "cell_type": "code",
   "execution_count": 10,
   "id": "f9169718",
   "metadata": {},
   "outputs": [
    {
     "name": "stdout",
     "output_type": "stream",
     "text": [
      "🕒 Tiempo estimado DRL: 9.42 h\n",
      "🕒 Tiempo estimado Det: 12.16 h\n"
     ]
    }
   ],
   "source": [
    "t_drl = calcular_tiempo_aproximado(\"data/routes_drl/route_drl_01.csv\", tipo=\"drl\")\n",
    "t_det = calcular_tiempo_aproximado(\"data/expert_routes/route_det_01.csv\", tipo=\"det\")\n",
    "\n",
    "print(f\"🕒 Tiempo estimado DRL: {t_drl:.2f} h\")\n",
    "print(f\"🕒 Tiempo estimado Det: {t_det:.2f} h\")\n"
   ]
  },
  {
   "cell_type": "code",
   "execution_count": null,
   "id": "2d8301c7",
   "metadata": {},
   "outputs": [],
   "source": [
    "mapa = mostrar_rutas_en_mapa_folium(drl_path, det_path)\n",
    "mapa  # En Jupyter Notebook se renderiza automáticamente\n"
   ]
  }
 ],
 "metadata": {
  "kernelspec": {
   "display_name": ".venv",
   "language": "python",
   "name": "python3"
  },
  "language_info": {
   "codemirror_mode": {
    "name": "ipython",
    "version": 3
   },
   "file_extension": ".py",
   "mimetype": "text/x-python",
   "name": "python",
   "nbconvert_exporter": "python",
   "pygments_lexer": "ipython3",
   "version": "3.11.9"
  }
 },
 "nbformat": 4,
 "nbformat_minor": 5
}
