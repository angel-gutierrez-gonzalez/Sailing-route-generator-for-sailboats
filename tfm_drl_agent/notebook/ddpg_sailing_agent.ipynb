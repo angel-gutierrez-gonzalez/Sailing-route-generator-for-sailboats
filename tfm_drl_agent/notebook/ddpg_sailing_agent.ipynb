{
 "cells": [
  {
   "cell_type": "markdown",
   "id": "42e8739a",
   "metadata": {},
   "source": [
    "# Configuración e imports"
   ]
  },
  {
   "cell_type": "code",
   "execution_count": 1,
   "id": "64924462",
   "metadata": {},
   "outputs": [],
   "source": [
    "import sys\n",
    "import os"
   ]
  },
  {
   "cell_type": "code",
   "execution_count": 2,
   "id": "bccbdf3e",
   "metadata": {},
   "outputs": [],
   "source": [
    "# Obtener ruta absoluta del directorio que contiene el notebook\n",
    "notebook_dir = os.path.dirname(os.getcwd())  # sube un nivel desde /notebook\n",
    "if notebook_dir not in sys.path:\n",
    "    sys.path.append(notebook_dir)"
   ]
  },
  {
   "cell_type": "code",
   "execution_count": 3,
   "id": "39fa61f4",
   "metadata": {},
   "outputs": [
    {
     "name": "stderr",
     "output_type": "stream",
     "text": [
      "2025-06-27 22:20:07.302686: I tensorflow/core/util/port.cc:153] oneDNN custom operations are on. You may see slightly different numerical results due to floating-point round-off errors from different computation orders. To turn them off, set the environment variable `TF_ENABLE_ONEDNN_OPTS=0`.\n",
      "2025-06-27 22:20:07.320199: E external/local_xla/xla/stream_executor/cuda/cuda_fft.cc:467] Unable to register cuFFT factory: Attempting to register factory for plugin cuFFT when one has already been registered\n",
      "WARNING: All log messages before absl::InitializeLog() is called are written to STDERR\n",
      "E0000 00:00:1751062807.342079 1734888 cuda_dnn.cc:8579] Unable to register cuDNN factory: Attempting to register factory for plugin cuDNN when one has already been registered\n",
      "E0000 00:00:1751062807.349302 1734888 cuda_blas.cc:1407] Unable to register cuBLAS factory: Attempting to register factory for plugin cuBLAS when one has already been registered\n",
      "W0000 00:00:1751062807.365563 1734888 computation_placer.cc:177] computation placer already registered. Please check linkage and avoid linking the same target more than once.\n",
      "W0000 00:00:1751062807.365585 1734888 computation_placer.cc:177] computation placer already registered. Please check linkage and avoid linking the same target more than once.\n",
      "W0000 00:00:1751062807.365587 1734888 computation_placer.cc:177] computation placer already registered. Please check linkage and avoid linking the same target more than once.\n",
      "W0000 00:00:1751062807.365588 1734888 computation_placer.cc:177] computation placer already registered. Please check linkage and avoid linking the same target more than once.\n",
      "2025-06-27 22:20:07.371228: I tensorflow/core/platform/cpu_feature_guard.cc:210] This TensorFlow binary is optimized to use available CPU instructions in performance-critical operations.\n",
      "To enable the following instructions: AVX2 AVX512F AVX512_VNNI FMA, in other operations, rebuild TensorFlow with the appropriate compiler flags.\n"
     ]
    }
   ],
   "source": [
    "import pandas as pd\n",
    "from environment.sailing_env import SailingEnv\n",
    "from environment.wind_field import MultiDayWindField\n",
    "from environment.random_wind_wrapper import RandomizedWindWrapper\n",
    "from environment.polar_diagram import PolarDiagram\n",
    "from agents.ddpg import DDPGAgent\n",
    "from training.train_drl import train_ddpg"
   ]
  },
  {
   "cell_type": "code",
   "execution_count": 4,
   "id": "2e0add4d",
   "metadata": {},
   "outputs": [
    {
     "name": "stdout",
     "output_type": "stream",
     "text": [
      "Versión de TensorFlow: 2.19.0\n"
     ]
    }
   ],
   "source": [
    "import tensorflow as tf\n",
    "print(\"Versión de TensorFlow:\", tf.__version__)"
   ]
  },
  {
   "cell_type": "code",
   "execution_count": 5,
   "id": "bf0a4654",
   "metadata": {},
   "outputs": [
    {
     "name": "stdout",
     "output_type": "stream",
     "text": [
      "✅ GPU detectada: /physical_device:GPU:0\n"
     ]
    }
   ],
   "source": [
    "import tensorflow as tf\n",
    "\n",
    "gpus = tf.config.list_physical_devices('GPU')\n",
    "if gpus:\n",
    "    print(f\"✅ GPU detectada: {gpus[0].name}\")\n",
    "else:\n",
    "    print(\"⚠️ No se ha detectado GPU. El entrenamiento usará CPU.\")"
   ]
  },
  {
   "cell_type": "markdown",
   "id": "eccd1d8d",
   "metadata": {},
   "source": [
    "# Carga de datos"
   ]
  },
  {
   "cell_type": "code",
   "execution_count": 6,
   "id": "d42a4ddb",
   "metadata": {},
   "outputs": [],
   "source": [
    "# Diagrama polar\n",
    "polar = PolarDiagram('../../data/polar_diagram.csv')\n",
    "\n",
    "# Carpeta de rutas CSV del profesor\n",
    "folder_path = \"../../data/expert_trajectories\""
   ]
  },
  {
   "cell_type": "code",
   "execution_count": 7,
   "id": "dd4c793b",
   "metadata": {},
   "outputs": [],
   "source": [
    "# Definir rutas por fecha (ajusta con tus archivos)\n",
    "csv_paths = {\n",
    "    \"2025-05-04\": \"../../data/processed/nodes_bathy_wind20250504.csv\",\n",
    "    \"2025-05-04\": \"../../data/processed/nodes_bathy_wind20250507.csv\",\n",
    "    \"2025-05-09\": \"../../data/processed/nodes_bathy_wind20250509.csv\",\n",
    "    \"2025-05-11\": \"../../data/processed/nodes_bathy_wind20250511.csv\",\n",
    "    \"2025-05-13\": \"../../data/processed/nodes_bathy_wind20250513.csv\",\n",
    "    \"2025-05-15\": \"../../data/processed/nodes_bathy_wind20250515.csv\",\n",
    "    \"2025-05-17\": \"../../data/processed/nodes_bathy_wind20250517.csv\",\n",
    "    \"2025-05-19\": \"../../data/processed/nodes_bathy_wind20250519.csv\",\n",
    "    \"2025-05-23\": \"../../data/processed/nodes_bathy_wind20250523.csv\",\n",
    "    \"2025-05-25\": \"../../data/processed/nodes_bathy_wind20250525.csv\",\n",
    "    \"2025-05-27\": \"../../data/processed/nodes_bathy_wind20250527.csv\",\n",
    "    \"2025-05-28\": \"../../data/processed/nodes_bathy_wind20250528.csv\",\n",
    "    \"2025-05-30\": \"../../data/processed/nodes_bathy_wind20250530.csv\",\n",
    "    \"2025-06-01\": \"../../data/processed/nodes_bathy_wind20250601.csv\"\n",
    "}\n",
    "\n",
    "# Crear campo de viento multi-día\n",
    "wind_field = MultiDayWindField(csv_paths)"
   ]
  },
  {
   "cell_type": "markdown",
   "id": "9a9fbd79",
   "metadata": {},
   "source": [
    "# Inicialización del entorno"
   ]
  },
  {
   "cell_type": "markdown",
   "id": "25e11ebc",
   "metadata": {},
   "source": [
    "- El barco empieza y termina dentro del área navegable.\n",
    "- El episodio dura como máximo 24 horas.\n",
    "- Las consultas de viento están cubiertas por tu CSV de Open-Meteo."
   ]
  },
  {
   "cell_type": "code",
   "execution_count": 8,
   "id": "8ee8408b",
   "metadata": {},
   "outputs": [],
   "source": [
    "# Configuración de entorno simulado\n",
    "config_base = {\n",
    "    \"start\": [38.5, 1.0],\n",
    "    \"goal\": [40.0, 4.5],\n",
    "    \"dt\": 10,\n",
    "    \"max_steps\": 135,\n",
    "    \"polar_diagram\": polar,\n",
    "    \"debug\": True\n",
    "}"
   ]
  },
  {
   "cell_type": "code",
   "execution_count": 9,
   "id": "74685c99",
   "metadata": {},
   "outputs": [
    {
     "name": "stdout",
     "output_type": "stream",
     "text": [
      "[RANDOMIZED WIND] Episodio con condiciones del día: 2025-05-11\n",
      "[WIND FIELD] Usando datos de viento para el día: 2025-05-11\n"
     ]
    },
    {
     "name": "stderr",
     "output_type": "stream",
     "text": [
      "/home/agutierrez/Sailing-route-generator-for-sailboats/.venv/lib/python3.11/site-packages/gym/spaces/box.py:127: UserWarning: \u001b[33mWARN: Box bound precision lowered by casting to float32\u001b[0m\n",
      "  logger.warn(f\"Box bound precision lowered by casting to {self.dtype}\")\n"
     ]
    }
   ],
   "source": [
    "# Crear entorno con viento que cambia por episodio\n",
    "env = RandomizedWindWrapper(SailingEnv, config_base, wind_field)"
   ]
  },
  {
   "cell_type": "markdown",
   "id": "9ddd318f",
   "metadata": {},
   "source": [
    "# Creación del agente"
   ]
  },
  {
   "cell_type": "code",
   "execution_count": 10,
   "id": "48f4c71f",
   "metadata": {},
   "outputs": [
    {
     "name": "stderr",
     "output_type": "stream",
     "text": [
      "I0000 00:00:1751062812.385143 1734888 gpu_device.cc:2019] Created device /job:localhost/replica:0/task:0/device:GPU:0 with 45463 MB memory:  -> device: 0, name: NVIDIA RTX A6000, pci bus id: 0000:5b:00.0, compute capability: 8.6\n"
     ]
    }
   ],
   "source": [
    "agent = DDPGAgent(env)"
   ]
  },
  {
   "cell_type": "markdown",
   "id": "6b594a05",
   "metadata": {},
   "source": [
    "# Entrenamiento"
   ]
  },
  {
   "cell_type": "markdown",
   "id": "3b1af2bc",
   "metadata": {},
   "source": [
    "## Entrenamiento con aprendizaje por imitación"
   ]
  },
  {
   "cell_type": "code",
   "execution_count": null,
   "id": "10a1a081",
   "metadata": {},
   "outputs": [],
   "source": [
    "from agents.ddpg import get_actor\n",
    "from training.imitation_learning import train_actor_supervised\n",
    "\n",
    "# Crear actor sin entrenar\n",
    "actor_model = get_actor(input_shape=6, action_bounds=[360, 20])\n",
    "\n",
    "# Entrenar actor con todas las rutas disponibles\n",
    "trained_actor = train_actor_supervised(actor_model, folder_path, epochs=200)"
   ]
  },
  {
   "cell_type": "markdown",
   "id": "ba094222",
   "metadata": {},
   "source": [
    "## Entrenamiento por refuerzo (Entorno simulado)"
   ]
  },
  {
   "cell_type": "code",
   "execution_count": null,
   "id": "febbb1b8",
   "metadata": {},
   "outputs": [],
   "source": [
    "rewards = train_ddpg(agent, env, episodes=700)"
   ]
  },
  {
   "cell_type": "markdown",
   "id": "573d1eb2",
   "metadata": {},
   "source": [
    "# Visualización"
   ]
  },
  {
   "cell_type": "code",
   "execution_count": null,
   "id": "a5ad9a57",
   "metadata": {},
   "outputs": [],
   "source": [
    "import matplotlib.pyplot as plt\n",
    "\n",
    "plt.plot(rewards)\n",
    "plt.title(\"Recompensa por episodio\")\n",
    "plt.xlabel(\"Episodio\")\n",
    "plt.ylabel(\"Reward total\")\n",
    "plt.grid()\n",
    "plt.show()\n"
   ]
  },
  {
   "cell_type": "markdown",
   "id": "e357e26f",
   "metadata": {},
   "source": [
    "# (opcional) Evaluación"
   ]
  },
  {
   "cell_type": "code",
   "execution_count": null,
   "id": "446c75a9",
   "metadata": {},
   "outputs": [],
   "source": [
    "state = env.reset()\n",
    "total_reward = 0\n",
    "\n",
    "for _ in range(env.config['max_steps']):\n",
    "    tf_state = tf.convert_to_tensor([state], dtype=tf.float32)\n",
    "    action = agent.actor_model(tf_state)[0].numpy()\n",
    "    state, reward, done, _ = env.step(action)\n",
    "    total_reward += reward\n",
    "    env.render()\n",
    "    if done:\n",
    "        break\n",
    "\n",
    "print(f\"Recompensa total: {total_reward:.2f}\")"
   ]
  }
 ],
 "metadata": {
  "kernelspec": {
   "display_name": ".venv",
   "language": "python",
   "name": "python3"
  },
  "language_info": {
   "codemirror_mode": {
    "name": "ipython",
    "version": 3
   },
   "file_extension": ".py",
   "mimetype": "text/x-python",
   "name": "python",
   "nbconvert_exporter": "python",
   "pygments_lexer": "ipython3",
   "version": "3.11.9"
  }
 },
 "nbformat": 4,
 "nbformat_minor": 5
}
